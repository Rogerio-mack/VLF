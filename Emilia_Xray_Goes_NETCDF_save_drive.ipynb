{
  "nbformat": 4,
  "nbformat_minor": 0,
  "metadata": {
    "colab": {
      "name": "Emilia_Xray_Goes_NETCDF_save_drive.ipynb",
      "provenance": [],
      "authorship_tag": "ABX9TyNRQX69d+z7zgKrUKlM0bZf",
      "include_colab_link": true
    },
    "kernelspec": {
      "name": "python3",
      "display_name": "Python 3"
    },
    "language_info": {
      "name": "python"
    }
  },
  "cells": [
    {
      "cell_type": "markdown",
      "metadata": {
        "id": "view-in-github",
        "colab_type": "text"
      },
      "source": [
        "<a href=\"https://colab.research.google.com/github/Rogerio-mack/VLF/blob/main/Emilia_Xray_Goes_NETCDF_save_drive.ipynb\" target=\"_parent\"><img src=\"https://colab.research.google.com/assets/colab-badge.svg\" alt=\"Open In Colab\"/></a>"
      ]
    },
    {
      "cell_type": "code",
      "source": [
        "from google.colab import drive\n",
        "drive.mount('/content/drive')"
      ],
      "metadata": {
        "colab": {
          "base_uri": "https://localhost:8080/"
        },
        "id": "dxFDBccmClYd",
        "outputId": "2692fe45-9e0c-4896-bb15-b6d11456c580"
      },
      "execution_count": 1,
      "outputs": [
        {
          "output_type": "stream",
          "name": "stdout",
          "text": [
            "Mounted at /content/drive\n"
          ]
        }
      ]
    },
    {
      "cell_type": "code",
      "source": [
        "import xarray as xr\n",
        "import requests\n",
        "import netCDF4\n",
        "import matplotlib.pyplot as plt\n",
        "%matplotlib inline"
      ],
      "metadata": {
        "id": "7LFvH8Y1nnyI"
      },
      "execution_count": 2,
      "outputs": []
    },
    {
      "cell_type": "code",
      "source": [
        "#\n",
        "# uload Arquivo do site...\n",
        "#\n",
        "!wget https://data.ngdc.noaa.gov/platforms/solar-space-observing-satellites/goes/goes17/l2/data/xrsf-l2-flx1s/2022/04/dn_xrsf-l2-flx1s_g17_d20220404_v2-1-0.nc"
      ],
      "metadata": {
        "colab": {
          "base_uri": "https://localhost:8080/"
        },
        "id": "1ux9Hs3qyHyR",
        "outputId": "2822f709-153a-4267-cb8d-c778c4da464f"
      },
      "execution_count": 3,
      "outputs": [
        {
          "output_type": "stream",
          "name": "stdout",
          "text": [
            "--2022-04-12 13:52:14--  https://data.ngdc.noaa.gov/platforms/solar-space-observing-satellites/goes/goes17/l2/data/xrsf-l2-flx1s/2022/04/dn_xrsf-l2-flx1s_g17_d20220404_v2-1-0.nc\n",
            "Resolving data.ngdc.noaa.gov (data.ngdc.noaa.gov)... 140.172.190.8\n",
            "Connecting to data.ngdc.noaa.gov (data.ngdc.noaa.gov)|140.172.190.8|:443... connected.\n",
            "HTTP request sent, awaiting response... 200 OK\n",
            "Length: 5119839 (4.9M) [application/x-netcdf]\n",
            "Saving to: ‘dn_xrsf-l2-flx1s_g17_d20220404_v2-1-0.nc’\n",
            "\n",
            "dn_xrsf-l2-flx1s_g1 100%[===================>]   4.88M  1.87MB/s    in 2.6s    \n",
            "\n",
            "2022-04-12 13:52:18 (1.87 MB/s) - ‘dn_xrsf-l2-flx1s_g17_d20220404_v2-1-0.nc’ saved [5119839/5119839]\n",
            "\n"
          ]
        }
      ]
    },
    {
      "cell_type": "code",
      "source": [
        "#\n",
        "# Read Arquivo local...\n",
        "#\n",
        "nc4_ds = netCDF4.Dataset('/content/dn_xrsf-l2-flx1s_g17_d20220404_v2-1-0.nc')\n",
        "store = xr.backends.NetCDF4DataStore(nc4_ds)\n",
        "DS = xr.open_dataset(store)"
      ],
      "metadata": {
        "id": "z2t1_ZsPyREf"
      },
      "execution_count": 4,
      "outputs": []
    },
    {
      "cell_type": "code",
      "source": [
        "DS_df = DS.to_dataframe()\n",
        "DS_df.iloc[0]"
      ],
      "metadata": {
        "id": "45je4YoUA7x4",
        "outputId": "6584a756-76d0-43a1-959e-9d3018066d94",
        "colab": {
          "base_uri": "https://localhost:8080/"
        }
      },
      "execution_count": 5,
      "outputs": [
        {
          "output_type": "execute_result",
          "data": {
            "text/plain": [
              "xrsa_flux                  9.334470e-08\n",
              "xrsb_flux                  8.917511e-07\n",
              "xrsa1_flux                 9.334470e-08\n",
              "xrsa2_flux                 1.121665e-07\n",
              "xrsb1_flux                 8.917511e-07\n",
              "xrsb2_flux                 8.480980e-07\n",
              "xrsa_primary_chan          1.000000e+00\n",
              "xrsb_primary_chan          1.000000e+00\n",
              "xrsa_flags                 0.000000e+00\n",
              "xrsb_flags                 0.000000e+00\n",
              "xrsa1_flags                0.000000e+00\n",
              "xrsa2_flags                0.000000e+00\n",
              "xrsb1_flags                0.000000e+00\n",
              "xrsb2_flags                0.000000e+00\n",
              "corrected_current_xrsa2    1.000941e-14\n",
              "corrected_current_xrsb2    1.870584e-13\n",
              "au_factor                  9.999262e-01\n",
              "roll_angle                 3.598712e+02\n",
              "yaw_flip_flag              2.000000e+00\n",
              "Name: (0, 2022-04-03 23:59:59.733027968), dtype: float32"
            ]
          },
          "metadata": {},
          "execution_count": 5
        }
      ]
    },
    {
      "cell_type": "code",
      "source": [
        "# grava no Drive\n",
        "\n",
        "DS_df.to_csv('/content/drive/MyDrive/dn_xrsf-l2-flx1s_g17_d20220404_v2-1-0.nc.csv')\n"
      ],
      "metadata": {
        "id": "G1ehOym6BhDg"
      },
      "execution_count": 7,
      "outputs": []
    },
    {
      "cell_type": "code",
      "source": [
        "# grava Local \n",
        "\n",
        "DS_df.to_csv('/content/dn_xrsf-l2-flx1s_g17_d20220404_v2-1-0.nc.csv')\n"
      ],
      "metadata": {
        "id": "Blq0JOcFEPim"
      },
      "execution_count": null,
      "outputs": []
    }
  ]
}