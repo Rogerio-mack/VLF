{
  "nbformat": 4,
  "nbformat_minor": 0,
  "metadata": {
    "colab": {
      "name": "VLF_Database.ipynb",
      "provenance": [],
      "authorship_tag": "ABX9TyMeyTHm7R/e2W6mR9VaARdq",
      "include_colab_link": true
    },
    "kernelspec": {
      "name": "python3",
      "display_name": "Python 3"
    },
    "language_info": {
      "name": "python"
    }
  },
  "cells": [
    {
      "cell_type": "markdown",
      "metadata": {
        "id": "view-in-github",
        "colab_type": "text"
      },
      "source": [
        "<a href=\"https://colab.research.google.com/github/Rogerio-mack/VLF/blob/main/VLF_Database.ipynb\" target=\"_parent\"><img src=\"https://colab.research.google.com/assets/colab-badge.svg\" alt=\"Open In Colab\"/></a>"
      ]
    },
    {
      "cell_type": "code",
      "execution_count": 23,
      "metadata": {
        "id": "Zi1Oszk2I9Lo"
      },
      "outputs": [],
      "source": [
        "import pandas as pd\n",
        "import numpy as np\n",
        "import os"
      ]
    },
    {
      "cell_type": "markdown",
      "source": [
        "[Data here](https://drive.google.com/drive/folders/1mUPDRlzSqxuFMl6L96tPBQKprPY223yT?usp=sharing)"
      ],
      "metadata": {
        "id": "etdRz_TeJT6l"
      }
    },
    {
      "cell_type": "code",
      "source": [
        "from google.colab import drive\n",
        "drive.mount('/content/drive')"
      ],
      "metadata": {
        "colab": {
          "base_uri": "https://localhost:8080/"
        },
        "id": "9CYDPwuXJFkt",
        "outputId": "5069d114-5711-4484-81de-bc941ce639db"
      },
      "execution_count": 24,
      "outputs": [
        {
          "output_type": "stream",
          "name": "stdout",
          "text": [
            "Drive already mounted at /content/drive; to attempt to forcibly remount, call drive.mount(\"/content/drive\", force_remount=True).\n"
          ]
        }
      ]
    },
    {
      "cell_type": "markdown",
      "source": [
        "# Routines"
      ],
      "metadata": {
        "id": "GpW57gT0gGpW"
      }
    },
    {
      "cell_type": "code",
      "source": [
        "def get_file_properties(path_file, verbose=False):\n",
        "  import os  \n",
        "  import yaml\n",
        "\n",
        "  type = 'Undentified'  \n",
        "  extension = '-'  \n",
        "  size = 0\n",
        "\n",
        "  if os.path.isdir(path_file):  \n",
        "    type = 'Dir'  \n",
        "    extension = '-'\n",
        "    for f in os.scandir(path_file):\n",
        "      size = size + os.stat(f).st_size\n",
        "    nr_files = len(os.listdir(path_file))\n",
        "  elif os.path.isfile(path_file):  \n",
        "    type = 'File'  \n",
        "    extension = path_file.split('/')[-1].split('.')[-1]\n",
        "    size = os.path.getsize(path_file)\n",
        "\n",
        "  file_properties = {}\n",
        "  file_properties['path_file'] = path_file\n",
        "  file_properties['type'] = type\n",
        "  if type == 'Dir':\n",
        "    file_properties['nr_files'] = nr_files\n",
        "  file_properties['extension'] = extension\n",
        "  file_properties['size'] = size\n",
        "\n",
        "  if verbose:\n",
        "    print(yaml.dump(file_properties, default_flow_style=False))\n",
        "\n",
        "  return file_properties \n",
        "\n",
        "_ = get_file_properties('/content/drive/MyDrive/VLF/data',verbose=True)\n",
        "_ = get_file_properties('/content/drive/MyDrive/VLF/data/Narrowband/AntarticaFerraz/2007_07_10',verbose=True)\n",
        "_ = get_file_properties('/content/drive/MyDrive/VLF/data/Narrowband/AntarticaFerraz/2007_07_10/FE070710000500NAA_006A.mat',verbose=True)\n"
      ],
      "metadata": {
        "colab": {
          "base_uri": "https://localhost:8080/"
        },
        "id": "jM9o6SvtLfl0",
        "outputId": "44604a23-1a2a-4740-dce3-f804e74b3ca6"
      },
      "execution_count": 25,
      "outputs": [
        {
          "output_type": "stream",
          "name": "stdout",
          "text": [
            "extension: '-'\n",
            "nr_files: 2\n",
            "path_file: /content/drive/MyDrive/VLF/data\n",
            "size: 8192\n",
            "type: Dir\n",
            "\n",
            "extension: '-'\n",
            "nr_files: 2\n",
            "path_file: /content/drive/MyDrive/VLF/data/Narrowband/AntarticaFerraz/2007_07_10\n",
            "size: 412575\n",
            "type: Dir\n",
            "\n",
            "extension: mat\n",
            "path_file: /content/drive/MyDrive/VLF/data/Narrowband/AntarticaFerraz/2007_07_10/FE070710000500NAA_006A.mat\n",
            "size: 206292\n",
            "type: File\n",
            "\n"
          ]
        }
      ]
    },
    {
      "cell_type": "code",
      "source": [
        "def get_file_tree1(path,verbose=False):\n",
        "  import os  \n",
        "  import yaml\n",
        "\n",
        "  if get_file_properties(path)['type'] != 'Dir':\n",
        "    print(path, ' is not a path')\n",
        "    return\n",
        "\n",
        "  file_tree1 = {}\n",
        "  file_tree1['path'] = path\n",
        "  file_tree1['properties'] = get_file_properties(path)\n",
        "\n",
        "  tree = {}\n",
        "  for f in os.listdir(path):\n",
        "    tree[f] = get_file_properties(path + '/' + f)\n",
        "    \n",
        "  file_tree1['files'] = tree\n",
        "  \n",
        "  if verbose:\n",
        "    print(yaml.dump(file_tree1, default_flow_style=False))\n",
        "\n",
        "  return  file_tree1\n",
        "\n",
        "all_files = get_file_tree1('/content/drive/MyDrive/VLF/data/Narrowband/AntarticaFerraz/2007_07_10',verbose=True)"
      ],
      "metadata": {
        "colab": {
          "base_uri": "https://localhost:8080/"
        },
        "id": "rpaBMXBMSdTH",
        "outputId": "f1d6c96b-01f3-46f6-c614-5b6bb16d6767"
      },
      "execution_count": 26,
      "outputs": [
        {
          "output_type": "stream",
          "name": "stdout",
          "text": [
            "files:\n",
            "  FE070710000500NAA_006A.mat:\n",
            "    extension: mat\n",
            "    path_file: /content/drive/MyDrive/VLF/data/Narrowband/AntarticaFerraz/2007_07_10/FE070710000500NAA_006A.mat\n",
            "    size: 206292\n",
            "    type: File\n",
            "  FE070710000500NAA_006B.mat:\n",
            "    extension: mat\n",
            "    path_file: /content/drive/MyDrive/VLF/data/Narrowband/AntarticaFerraz/2007_07_10/FE070710000500NAA_006B.mat\n",
            "    size: 206283\n",
            "    type: File\n",
            "path: /content/drive/MyDrive/VLF/data/Narrowband/AntarticaFerraz/2007_07_10\n",
            "properties:\n",
            "  extension: '-'\n",
            "  nr_files: 2\n",
            "  path_file: /content/drive/MyDrive/VLF/data/Narrowband/AntarticaFerraz/2007_07_10\n",
            "  size: 412575\n",
            "  type: Dir\n",
            "\n"
          ]
        }
      ]
    },
    {
      "cell_type": "code",
      "source": [
        "# Filename: XXYYMMDDHHMMSSZZZ_ACCT.mat\n",
        "\n",
        "# XX – Station ID\n",
        "# YY – Year\n",
        "# MM — Month\n",
        "# DD — Day\n",
        "# HH — Hour\n",
        "# MM — Minute\n",
        "# SS — Second\n",
        "# ZZZ — Transmitter Callsign\n",
        "# A — Usually not used\n",
        "# CC — 00 for N/S channel, 01 for E/W channel\n",
        "# T — Type of data\n",
        "# A is low resolution (1 Hz sampling rate) amplitude\n",
        "# B is low resolution (1 Hz sampling rate) phase\n",
        "# C is high resolution (50 Hz sampling rate) amplitude\n",
        "# D is high resolution (50 Hz sampling rate) phase\n",
        "# F is high resolution (50 Hz sampling rate) effective group delay\n",
        "\n",
        "# XXYYMMDDHHMMSSZZZ_ACCT.mat\n",
        "# 01234567890123456789012345\n",
        "\n",
        "def get_narrowbroad_file_info(pathfile,type='N',verbose=False):\n",
        "\n",
        "  import yaml\n",
        "\n",
        "  narrowband_format_dict = {\n",
        "  'Station_ID':[0,1],\n",
        "  'Year':[2,3],\n",
        "  'Month':[4,5],\n",
        "  'Day':[6,7],\n",
        "  'Hour':[8,9],\n",
        "  'Minute':[10,11],\n",
        "  'Second':[12,13],\n",
        "  'Transmitter':[14,16],\n",
        "  '_':[17,17],\n",
        "  'Usually not used':[18,18],\n",
        "  'CC':[19,20],\n",
        "  # CC — 00 for N/S channel, 01 for E/W channel\n",
        "  'Type_ABCDF':[21,21],\n",
        "  # A is low resolution (1 Hz sampling rate) amplitude\n",
        "  # B is low resolution (1 Hz sampling rate) phase\n",
        "  # C is high resolution (50 Hz sampling rate) amplitude\n",
        "  # D is high resolution (50 Hz sampling rate) phase\n",
        "  # F is high resolution (50 Hz sampling rate) effective group delay\n",
        "  '.mat':[22,25]\n",
        "  }\n",
        "\n",
        "#  CC_map = {'00':'N/S','01':'E/W'} ...I have found 06 in AntarticaFerraz\n",
        "\n",
        "  Type_ABCDF_map = {'A': ['low','amplitude'],\n",
        "  'B': ['low','phase'],\n",
        "  'C': ['high','amplitude'],\n",
        "  'D': ['high','phase'],\n",
        "  'F': ['high','group delay']\n",
        "  }\n",
        "\n",
        "  info = {}\n",
        "  \n",
        "  if type == 'N':\n",
        "    info['filename'] = pathfile.split('/')[-1] \n",
        "    info['location'] = pathfile\n",
        "    info['size'] = get_file_properties(pathfile)['size']\n",
        "    for key in narrowband_format_dict.keys():\n",
        "      info[key] = info['filename'][narrowband_format_dict[key][0]:narrowband_format_dict[key][1]+1]\n",
        "#    info['CC'] = CC_map[info['CC']]\n",
        "    info['resolution'] = Type_ABCDF_map[info['Type_ABCDF']][0]\n",
        "    info['amplitude_phase'] = Type_ABCDF_map[info['Type_ABCDF']][1]\n",
        "    \n",
        "    info['Station_name'] = pathfile.split('/')[-3] \n",
        "\n",
        "  if verbose:\n",
        "    print(yaml.dump(info, default_flow_style=False))\n",
        "\n",
        "  return info \n",
        "\n",
        "_ = get_narrowbroad_file_info('/content/drive/MyDrive/VLF/data/Narrowband/AntarticaFerraz/2007_07_10/FE070710000500NAA_006A.mat',type='N',verbose=True)"
      ],
      "metadata": {
        "colab": {
          "base_uri": "https://localhost:8080/"
        },
        "id": "oIhjXLvexl3J",
        "outputId": "9f8f0b96-e8c0-4218-ec0b-454ee3c2ff41"
      },
      "execution_count": 27,
      "outputs": [
        {
          "output_type": "stream",
          "name": "stdout",
          "text": [
            ".mat: .mat\n",
            "CC: '06'\n",
            "Day: '10'\n",
            "Hour: '00'\n",
            "Minute: '05'\n",
            "Month: '07'\n",
            "Second: '00'\n",
            "Station_ID: FE\n",
            "Station_name: AntarticaFerraz\n",
            "Transmitter: NAA\n",
            "Type_ABCDF: A\n",
            "Usually not used: '0'\n",
            "Year: '07'\n",
            "_: _\n",
            "amplitude_phase: amplitude\n",
            "filename: FE070710000500NAA_006A.mat\n",
            "location: /content/drive/MyDrive/VLF/data/Narrowband/AntarticaFerraz/2007_07_10/FE070710000500NAA_006A.mat\n",
            "resolution: low\n",
            "size: 206292\n",
            "\n"
          ]
        }
      ]
    },
    {
      "cell_type": "code",
      "source": [
        "def build_narrowband(pathname, verbose=False, trace=False):\n",
        "\n",
        "  import yaml\n",
        "\n",
        "  narrowband_data = {}\n",
        "\n",
        "  for station, desc in get_file_tree1(pathname)['files'].items():\n",
        "    if desc['type'] == 'Dir': # to make sure is a directory\n",
        "      narrowband_data[station] = {'location': desc['path_file']}\n",
        "\n",
        "  if trace:\n",
        "    print(yaml.dump(narrowband_data , default_flow_style=False))\n",
        "\n",
        "  for station, desc_narrow in narrowband_data.items():\n",
        "    narrowband_data[station]['files'] = {}\n",
        "    for yy_mm_dd, desc_tree in get_file_tree1(desc_narrow['location'])['files'].items():\n",
        "      if desc_tree['type'] == 'Dir': # to make sure is a directory\n",
        "        for f, desc_tree2 in get_file_tree1(desc_tree['path_file'])['files'].items():\n",
        "          if desc_tree2['type'] == 'File':\n",
        "            narrowband_data[station]['files'][f] = {'path_file': desc_tree2['path_file']}\n",
        "\n",
        "  if trace:\n",
        "    print(yaml.dump(narrowband_data , default_flow_style=False))\n",
        "\n",
        "  for station, desc_narrow in narrowband_data.items():\n",
        "    dates = {}\n",
        "    transmitters = {}\n",
        "    for f, desc_file in desc_narrow['files'].items():\n",
        "      yymmdd = get_narrowbroad_file_info(desc_file['path_file'],type='N')['Year'] + \\\n",
        "              get_narrowbroad_file_info(desc_file['path_file'],type='N')['Month'] + \\\n",
        "              get_narrowbroad_file_info(desc_file['path_file'],type='N')['Day']\n",
        "      if yymmdd in dates.keys():\n",
        "        dates[yymmdd] = dates[yymmdd] + 1\n",
        "      else:\n",
        "        dates[yymmdd] = 1\n",
        "\n",
        "      transm = get_narrowbroad_file_info(desc_file['path_file'],type='N')['Transmitter'] \n",
        "      if transm in transmitters.keys():\n",
        "        transmitters[transm] = transmitters[transm] + 1\n",
        "      else:\n",
        "        transmitters[transm] = 1\n",
        "        \n",
        "    narrowband_data[station]['dates'] = dates\n",
        "    narrowband_data[station]['transmitters'] = transmitters\n",
        "    \n",
        "  if verbose:\n",
        "    print(yaml.dump(narrowband_data , default_flow_style=False))\n",
        "\n",
        "  return narrowband_data\n",
        "\n",
        "nb = build_narrowband('/content/drive/MyDrive/VLF/data/Narrowband', verbose=True)"
      ],
      "metadata": {
        "colab": {
          "base_uri": "https://localhost:8080/"
        },
        "id": "eDbDZ-n5Aimc",
        "outputId": "80c58c6c-6e0d-4d52-9aae-46db3ce3b30c"
      },
      "execution_count": 28,
      "outputs": [
        {
          "output_type": "stream",
          "name": "stdout",
          "text": [
            "AntarticaFerraz:\n",
            "  dates:\n",
            "    '070710': 2\n",
            "  files:\n",
            "    FE070710000500NAA_006A.mat:\n",
            "      path_file: /content/drive/MyDrive/VLF/data/Narrowband/AntarticaFerraz/2007_07_10/FE070710000500NAA_006A.mat\n",
            "    FE070710000500NAA_006B.mat:\n",
            "      path_file: /content/drive/MyDrive/VLF/data/Narrowband/AntarticaFerraz/2007_07_10/FE070710000500NAA_006B.mat\n",
            "  location: /content/drive/MyDrive/VLF/data/Narrowband/AntarticaFerraz\n",
            "  transmitters:\n",
            "    NAA: 2\n",
            "PalmerStation:\n",
            "  dates:\n",
            "    '110105': 11\n",
            "    '110526': 11\n",
            "  files:\n",
            "    PA110105000000DHO_100A.mat:\n",
            "      path_file: /content/drive/MyDrive/VLF/data/Narrowband/PalmerStation/2011_01_05/PA110105000000DHO_100A.mat\n",
            "    PA110105000000DHO_100B.mat:\n",
            "      path_file: /content/drive/MyDrive/VLF/data/Narrowband/PalmerStation/2011_01_05/PA110105000000DHO_100B.mat\n",
            "    PA110105000000DHO_100C.mat:\n",
            "      path_file: /content/drive/MyDrive/VLF/data/Narrowband/PalmerStation/2011_01_05/PA110105000000DHO_100C.mat\n",
            "    PA110105000000DHO_100D.mat:\n",
            "      path_file: /content/drive/MyDrive/VLF/data/Narrowband/PalmerStation/2011_01_05/PA110105000000DHO_100D.mat\n",
            "    PA110105000000DHO_101A.mat:\n",
            "      path_file: /content/drive/MyDrive/VLF/data/Narrowband/PalmerStation/2011_01_05/PA110105000000DHO_101A.mat\n",
            "    PA110105000000DHO_101B.mat:\n",
            "      path_file: /content/drive/MyDrive/VLF/data/Narrowband/PalmerStation/2011_01_05/PA110105000000DHO_101B.mat\n",
            "    PA110105000000DHO_101C.mat:\n",
            "      path_file: /content/drive/MyDrive/VLF/data/Narrowband/PalmerStation/2011_01_05/PA110105000000DHO_101C.mat\n",
            "    PA110105000000DHO_101D.mat:\n",
            "      path_file: /content/drive/MyDrive/VLF/data/Narrowband/PalmerStation/2011_01_05/PA110105000000DHO_101D.mat\n",
            "    PA110105000000GBZ_100A.mat:\n",
            "      path_file: /content/drive/MyDrive/VLF/data/Narrowband/PalmerStation/2011_01_05/PA110105000000GBZ_100A.mat\n",
            "    PA110105000000GBZ_100B.mat:\n",
            "      path_file: /content/drive/MyDrive/VLF/data/Narrowband/PalmerStation/2011_01_05/PA110105000000GBZ_100B.mat\n",
            "    PA110105000000GBZ_100C.mat:\n",
            "      path_file: /content/drive/MyDrive/VLF/data/Narrowband/PalmerStation/2011_01_05/PA110105000000GBZ_100C.mat\n",
            "    PA110526000000DHO_100A.mat:\n",
            "      path_file: /content/drive/MyDrive/VLF/data/Narrowband/PalmerStation/2011_05_26/PA110526000000DHO_100A.mat\n",
            "    PA110526000000DHO_100B.mat:\n",
            "      path_file: /content/drive/MyDrive/VLF/data/Narrowband/PalmerStation/2011_05_26/PA110526000000DHO_100B.mat\n",
            "    PA110526000000DHO_100C.mat:\n",
            "      path_file: /content/drive/MyDrive/VLF/data/Narrowband/PalmerStation/2011_05_26/PA110526000000DHO_100C.mat\n",
            "    PA110526000000DHO_100D.mat:\n",
            "      path_file: /content/drive/MyDrive/VLF/data/Narrowband/PalmerStation/2011_05_26/PA110526000000DHO_100D.mat\n",
            "    PA110526000000DHO_100F.mat:\n",
            "      path_file: /content/drive/MyDrive/VLF/data/Narrowband/PalmerStation/2011_05_26/PA110526000000DHO_100F.mat\n",
            "    PA110526000000DHO_101A.mat:\n",
            "      path_file: /content/drive/MyDrive/VLF/data/Narrowband/PalmerStation/2011_05_26/PA110526000000DHO_101A.mat\n",
            "    PA110526000000DHO_101B.mat:\n",
            "      path_file: /content/drive/MyDrive/VLF/data/Narrowband/PalmerStation/2011_05_26/PA110526000000DHO_101B.mat\n",
            "    PA110526000000DHO_101C.mat:\n",
            "      path_file: /content/drive/MyDrive/VLF/data/Narrowband/PalmerStation/2011_05_26/PA110526000000DHO_101C.mat\n",
            "    PA110526000000DHO_101D.mat:\n",
            "      path_file: /content/drive/MyDrive/VLF/data/Narrowband/PalmerStation/2011_05_26/PA110526000000DHO_101D.mat\n",
            "    PA110526000000DHO_101F.mat:\n",
            "      path_file: /content/drive/MyDrive/VLF/data/Narrowband/PalmerStation/2011_05_26/PA110526000000DHO_101F.mat\n",
            "    PA110526000000GBZ_100A.mat:\n",
            "      path_file: /content/drive/MyDrive/VLF/data/Narrowband/PalmerStation/2011_05_26/PA110526000000GBZ_100A.mat\n",
            "  location: /content/drive/MyDrive/VLF/data/Narrowband/PalmerStation\n",
            "  transmitters:\n",
            "    DHO: 18\n",
            "    GBZ: 4\n",
            "SouthPole:\n",
            "  dates:\n",
            "    '111130': 13\n",
            "  files:\n",
            "    SP111130000000NAA_100A.mat:\n",
            "      path_file: /content/drive/MyDrive/VLF/data/Narrowband/SouthPole/2011_11_30/SP111130000000NAA_100A.mat\n",
            "    SP111130000000NAA_100B.mat:\n",
            "      path_file: /content/drive/MyDrive/VLF/data/Narrowband/SouthPole/2011_11_30/SP111130000000NAA_100B.mat\n",
            "    SP111130000000NAA_100C.mat:\n",
            "      path_file: /content/drive/MyDrive/VLF/data/Narrowband/SouthPole/2011_11_30/SP111130000000NAA_100C.mat\n",
            "    SP111130000000NAA_100D.mat:\n",
            "      path_file: /content/drive/MyDrive/VLF/data/Narrowband/SouthPole/2011_11_30/SP111130000000NAA_100D.mat\n",
            "    SP111130000000NAA_100F.mat:\n",
            "      path_file: /content/drive/MyDrive/VLF/data/Narrowband/SouthPole/2011_11_30/SP111130000000NAA_100F.mat\n",
            "    SP111130000000NAA_101A.mat:\n",
            "      path_file: /content/drive/MyDrive/VLF/data/Narrowband/SouthPole/2011_11_30/SP111130000000NAA_101A.mat\n",
            "    SP111130000000NAA_101B.mat:\n",
            "      path_file: /content/drive/MyDrive/VLF/data/Narrowband/SouthPole/2011_11_30/SP111130000000NAA_101B.mat\n",
            "    SP111130000000NAA_101C.mat:\n",
            "      path_file: /content/drive/MyDrive/VLF/data/Narrowband/SouthPole/2011_11_30/SP111130000000NAA_101C.mat\n",
            "    SP111130000000NAA_101D.mat:\n",
            "      path_file: /content/drive/MyDrive/VLF/data/Narrowband/SouthPole/2011_11_30/SP111130000000NAA_101D.mat\n",
            "    SP111130000000NAA_101F.mat:\n",
            "      path_file: /content/drive/MyDrive/VLF/data/Narrowband/SouthPole/2011_11_30/SP111130000000NAA_101F.mat\n",
            "    SP111130000000NLK_100A.mat:\n",
            "      path_file: /content/drive/MyDrive/VLF/data/Narrowband/SouthPole/2011_11_30/SP111130000000NLK_100A.mat\n",
            "    SP111130000000NLK_100B.mat:\n",
            "      path_file: /content/drive/MyDrive/VLF/data/Narrowband/SouthPole/2011_11_30/SP111130000000NLK_100B.mat\n",
            "    SP111130000000NLK_100C.mat:\n",
            "      path_file: /content/drive/MyDrive/VLF/data/Narrowband/SouthPole/2011_11_30/SP111130000000NLK_100C.mat\n",
            "  location: /content/drive/MyDrive/VLF/data/Narrowband/SouthPole\n",
            "  transmitters:\n",
            "    NAA: 10\n",
            "    NLK: 3\n",
            "\n"
          ]
        }
      ]
    },
    {
      "cell_type": "markdown",
      "source": [
        "# Build Database"
      ],
      "metadata": {
        "id": "6OGZ_anCgOvh"
      }
    },
    {
      "cell_type": "code",
      "source": [
        "nb = build_narrowband('/content/drive/MyDrive/VLF/data/Narrowband', verbose=True)"
      ],
      "metadata": {
        "colab": {
          "base_uri": "https://localhost:8080/"
        },
        "id": "tnwX56HlgTcf",
        "outputId": "82916aa0-12ca-414b-e297-bff8871172b8"
      },
      "execution_count": 29,
      "outputs": [
        {
          "output_type": "stream",
          "name": "stdout",
          "text": [
            "AntarticaFerraz:\n",
            "  dates:\n",
            "    '070710': 2\n",
            "  files:\n",
            "    FE070710000500NAA_006A.mat:\n",
            "      path_file: /content/drive/MyDrive/VLF/data/Narrowband/AntarticaFerraz/2007_07_10/FE070710000500NAA_006A.mat\n",
            "    FE070710000500NAA_006B.mat:\n",
            "      path_file: /content/drive/MyDrive/VLF/data/Narrowband/AntarticaFerraz/2007_07_10/FE070710000500NAA_006B.mat\n",
            "  location: /content/drive/MyDrive/VLF/data/Narrowband/AntarticaFerraz\n",
            "  transmitters:\n",
            "    NAA: 2\n",
            "PalmerStation:\n",
            "  dates:\n",
            "    '110105': 11\n",
            "    '110526': 11\n",
            "  files:\n",
            "    PA110105000000DHO_100A.mat:\n",
            "      path_file: /content/drive/MyDrive/VLF/data/Narrowband/PalmerStation/2011_01_05/PA110105000000DHO_100A.mat\n",
            "    PA110105000000DHO_100B.mat:\n",
            "      path_file: /content/drive/MyDrive/VLF/data/Narrowband/PalmerStation/2011_01_05/PA110105000000DHO_100B.mat\n",
            "    PA110105000000DHO_100C.mat:\n",
            "      path_file: /content/drive/MyDrive/VLF/data/Narrowband/PalmerStation/2011_01_05/PA110105000000DHO_100C.mat\n",
            "    PA110105000000DHO_100D.mat:\n",
            "      path_file: /content/drive/MyDrive/VLF/data/Narrowband/PalmerStation/2011_01_05/PA110105000000DHO_100D.mat\n",
            "    PA110105000000DHO_101A.mat:\n",
            "      path_file: /content/drive/MyDrive/VLF/data/Narrowband/PalmerStation/2011_01_05/PA110105000000DHO_101A.mat\n",
            "    PA110105000000DHO_101B.mat:\n",
            "      path_file: /content/drive/MyDrive/VLF/data/Narrowband/PalmerStation/2011_01_05/PA110105000000DHO_101B.mat\n",
            "    PA110105000000DHO_101C.mat:\n",
            "      path_file: /content/drive/MyDrive/VLF/data/Narrowband/PalmerStation/2011_01_05/PA110105000000DHO_101C.mat\n",
            "    PA110105000000DHO_101D.mat:\n",
            "      path_file: /content/drive/MyDrive/VLF/data/Narrowband/PalmerStation/2011_01_05/PA110105000000DHO_101D.mat\n",
            "    PA110105000000GBZ_100A.mat:\n",
            "      path_file: /content/drive/MyDrive/VLF/data/Narrowband/PalmerStation/2011_01_05/PA110105000000GBZ_100A.mat\n",
            "    PA110105000000GBZ_100B.mat:\n",
            "      path_file: /content/drive/MyDrive/VLF/data/Narrowband/PalmerStation/2011_01_05/PA110105000000GBZ_100B.mat\n",
            "    PA110105000000GBZ_100C.mat:\n",
            "      path_file: /content/drive/MyDrive/VLF/data/Narrowband/PalmerStation/2011_01_05/PA110105000000GBZ_100C.mat\n",
            "    PA110526000000DHO_100A.mat:\n",
            "      path_file: /content/drive/MyDrive/VLF/data/Narrowband/PalmerStation/2011_05_26/PA110526000000DHO_100A.mat\n",
            "    PA110526000000DHO_100B.mat:\n",
            "      path_file: /content/drive/MyDrive/VLF/data/Narrowband/PalmerStation/2011_05_26/PA110526000000DHO_100B.mat\n",
            "    PA110526000000DHO_100C.mat:\n",
            "      path_file: /content/drive/MyDrive/VLF/data/Narrowband/PalmerStation/2011_05_26/PA110526000000DHO_100C.mat\n",
            "    PA110526000000DHO_100D.mat:\n",
            "      path_file: /content/drive/MyDrive/VLF/data/Narrowband/PalmerStation/2011_05_26/PA110526000000DHO_100D.mat\n",
            "    PA110526000000DHO_100F.mat:\n",
            "      path_file: /content/drive/MyDrive/VLF/data/Narrowband/PalmerStation/2011_05_26/PA110526000000DHO_100F.mat\n",
            "    PA110526000000DHO_101A.mat:\n",
            "      path_file: /content/drive/MyDrive/VLF/data/Narrowband/PalmerStation/2011_05_26/PA110526000000DHO_101A.mat\n",
            "    PA110526000000DHO_101B.mat:\n",
            "      path_file: /content/drive/MyDrive/VLF/data/Narrowband/PalmerStation/2011_05_26/PA110526000000DHO_101B.mat\n",
            "    PA110526000000DHO_101C.mat:\n",
            "      path_file: /content/drive/MyDrive/VLF/data/Narrowband/PalmerStation/2011_05_26/PA110526000000DHO_101C.mat\n",
            "    PA110526000000DHO_101D.mat:\n",
            "      path_file: /content/drive/MyDrive/VLF/data/Narrowband/PalmerStation/2011_05_26/PA110526000000DHO_101D.mat\n",
            "    PA110526000000DHO_101F.mat:\n",
            "      path_file: /content/drive/MyDrive/VLF/data/Narrowband/PalmerStation/2011_05_26/PA110526000000DHO_101F.mat\n",
            "    PA110526000000GBZ_100A.mat:\n",
            "      path_file: /content/drive/MyDrive/VLF/data/Narrowband/PalmerStation/2011_05_26/PA110526000000GBZ_100A.mat\n",
            "  location: /content/drive/MyDrive/VLF/data/Narrowband/PalmerStation\n",
            "  transmitters:\n",
            "    DHO: 18\n",
            "    GBZ: 4\n",
            "SouthPole:\n",
            "  dates:\n",
            "    '111130': 13\n",
            "  files:\n",
            "    SP111130000000NAA_100A.mat:\n",
            "      path_file: /content/drive/MyDrive/VLF/data/Narrowband/SouthPole/2011_11_30/SP111130000000NAA_100A.mat\n",
            "    SP111130000000NAA_100B.mat:\n",
            "      path_file: /content/drive/MyDrive/VLF/data/Narrowband/SouthPole/2011_11_30/SP111130000000NAA_100B.mat\n",
            "    SP111130000000NAA_100C.mat:\n",
            "      path_file: /content/drive/MyDrive/VLF/data/Narrowband/SouthPole/2011_11_30/SP111130000000NAA_100C.mat\n",
            "    SP111130000000NAA_100D.mat:\n",
            "      path_file: /content/drive/MyDrive/VLF/data/Narrowband/SouthPole/2011_11_30/SP111130000000NAA_100D.mat\n",
            "    SP111130000000NAA_100F.mat:\n",
            "      path_file: /content/drive/MyDrive/VLF/data/Narrowband/SouthPole/2011_11_30/SP111130000000NAA_100F.mat\n",
            "    SP111130000000NAA_101A.mat:\n",
            "      path_file: /content/drive/MyDrive/VLF/data/Narrowband/SouthPole/2011_11_30/SP111130000000NAA_101A.mat\n",
            "    SP111130000000NAA_101B.mat:\n",
            "      path_file: /content/drive/MyDrive/VLF/data/Narrowband/SouthPole/2011_11_30/SP111130000000NAA_101B.mat\n",
            "    SP111130000000NAA_101C.mat:\n",
            "      path_file: /content/drive/MyDrive/VLF/data/Narrowband/SouthPole/2011_11_30/SP111130000000NAA_101C.mat\n",
            "    SP111130000000NAA_101D.mat:\n",
            "      path_file: /content/drive/MyDrive/VLF/data/Narrowband/SouthPole/2011_11_30/SP111130000000NAA_101D.mat\n",
            "    SP111130000000NAA_101F.mat:\n",
            "      path_file: /content/drive/MyDrive/VLF/data/Narrowband/SouthPole/2011_11_30/SP111130000000NAA_101F.mat\n",
            "    SP111130000000NLK_100A.mat:\n",
            "      path_file: /content/drive/MyDrive/VLF/data/Narrowband/SouthPole/2011_11_30/SP111130000000NLK_100A.mat\n",
            "    SP111130000000NLK_100B.mat:\n",
            "      path_file: /content/drive/MyDrive/VLF/data/Narrowband/SouthPole/2011_11_30/SP111130000000NLK_100B.mat\n",
            "    SP111130000000NLK_100C.mat:\n",
            "      path_file: /content/drive/MyDrive/VLF/data/Narrowband/SouthPole/2011_11_30/SP111130000000NLK_100C.mat\n",
            "  location: /content/drive/MyDrive/VLF/data/Narrowband/SouthPole\n",
            "  transmitters:\n",
            "    NAA: 10\n",
            "    NLK: 3\n",
            "\n"
          ]
        }
      ]
    },
    {
      "cell_type": "markdown",
      "source": [
        "# Class and Funcions for Database Object"
      ],
      "metadata": {
        "id": "PEzZd6cLgWY2"
      }
    },
    {
      "cell_type": "code",
      "source": [
        "class nb_class:\n",
        "  def __init__(self, nb):\n",
        "    self.nb = nb\n",
        "\n",
        "  def stations(self):\n",
        "    return list(nb.keys())\n",
        "\n",
        "  def dates_available(self,station):\n",
        "    return list(nb[station]['dates'])  \n",
        "\n",
        "  def files_available(self,station):\n",
        "    return list(nb[station]['files']) \n",
        "\n",
        "  def transmitters_available(self,station):\n",
        "    return list(nb[station]['transmitters'])  \n",
        "\n",
        "  def get_path_file(self,station,file):\n",
        "    return nb[station]['files'][file]['path_file'] \n",
        "\n",
        "nb_obj = nb_class(nb)\n",
        "\n",
        "print('\\nEstações disponíveis: ')\n",
        "print( nb_obj.stations() )\n",
        "\n",
        "print('\\nDatas disponíveis para PalmerStation: ')\n",
        "print( nb_obj.dates_available('PalmerStation') )\n",
        "\n",
        "print('\\nArquivos disponíveis para PalmerStation: ')\n",
        "print( nb_obj.files_available('PalmerStation') )\n",
        "\n",
        "print('\\nTransmitters disponíveis para PalmerStation: ')\n",
        "print( nb_obj.transmitters_available('PalmerStation') )\n",
        "\n",
        "print('\\nPath para acessar um dado arquivo da base: ')\n",
        "print( nb_obj.get_path_file('PalmerStation','PA110526000000DHO_100B.mat') )\n",
        "\n",
        "print('\\nInfo de um dado arquivo da base: ')\n",
        "pathfile = nb_obj.get_path_file('PalmerStation','PA110526000000DHO_100B.mat')\n",
        "get_narrowbroad_file_info(pathfile,type='N',verbose=False)\n",
        "\n"
      ],
      "metadata": {
        "colab": {
          "base_uri": "https://localhost:8080/"
        },
        "id": "FP6VzvDqV8Ne",
        "outputId": "91552192-00eb-4b0e-c600-6e1e83f01606"
      },
      "execution_count": 30,
      "outputs": [
        {
          "output_type": "stream",
          "name": "stdout",
          "text": [
            "\n",
            "Estações disponíveis: \n",
            "['SouthPole', 'PalmerStation', 'AntarticaFerraz']\n",
            "\n",
            "Datas disponíveis para PalmerStation: \n",
            "['110526', '110105']\n",
            "\n",
            "Arquivos disponíveis para PalmerStation: \n",
            "['PA110526000000DHO_101B.mat', 'PA110526000000DHO_101A.mat', 'PA110526000000DHO_100B.mat', 'PA110526000000DHO_100A.mat', 'PA110526000000DHO_101F.mat', 'PA110526000000DHO_100F.mat', 'PA110526000000DHO_100C.mat', 'PA110526000000DHO_101C.mat', 'PA110526000000DHO_100D.mat', 'PA110526000000DHO_101D.mat', 'PA110526000000GBZ_100A.mat', 'PA110105000000DHO_100A.mat', 'PA110105000000DHO_101A.mat', 'PA110105000000DHO_100B.mat', 'PA110105000000DHO_101B.mat', 'PA110105000000DHO_101C.mat', 'PA110105000000DHO_100C.mat', 'PA110105000000GBZ_100A.mat', 'PA110105000000DHO_100D.mat', 'PA110105000000DHO_101D.mat', 'PA110105000000GBZ_100B.mat', 'PA110105000000GBZ_100C.mat']\n",
            "\n",
            "Transmitters disponíveis para PalmerStation: \n",
            "['DHO', 'GBZ']\n",
            "\n",
            "Path para acessar um dado arquivo da base: \n",
            "/content/drive/MyDrive/VLF/data/Narrowband/PalmerStation/2011_05_26/PA110526000000DHO_100B.mat\n",
            "\n",
            "Info de um dado arquivo da base: \n"
          ]
        },
        {
          "output_type": "execute_result",
          "data": {
            "text/plain": [
              "{'.mat': '.mat',\n",
              " 'CC': '00',\n",
              " 'Day': '26',\n",
              " 'Hour': '00',\n",
              " 'Minute': '00',\n",
              " 'Month': '05',\n",
              " 'Second': '00',\n",
              " 'Station_ID': 'PA',\n",
              " 'Station_name': 'PalmerStation',\n",
              " 'Transmitter': 'DHO',\n",
              " 'Type_ABCDF': 'B',\n",
              " 'Usually not used': '1',\n",
              " 'Year': '11',\n",
              " '_': '_',\n",
              " 'amplitude_phase': 'phase',\n",
              " 'filename': 'PA110526000000DHO_100B.mat',\n",
              " 'location': '/content/drive/MyDrive/VLF/data/Narrowband/PalmerStation/2011_05_26/PA110526000000DHO_100B.mat',\n",
              " 'resolution': 'low',\n",
              " 'size': 369270}"
            ]
          },
          "metadata": {},
          "execution_count": 30
        }
      ]
    }
  ]
}