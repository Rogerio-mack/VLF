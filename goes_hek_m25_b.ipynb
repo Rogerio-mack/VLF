{
  "cells": [
    {
      "cell_type": "markdown",
      "metadata": {
        "id": "view-in-github",
        "colab_type": "text"
      },
      "source": [
        "<a href=\"https://colab.research.google.com/github/Rogerio-mack/VLF/blob/main/goes_hek_m25_b.ipynb\" target=\"_parent\"><img src=\"https://colab.research.google.com/assets/colab-badge.svg\" alt=\"Open In Colab\"/></a>"
      ]
    },
    {
      "cell_type": "markdown",
      "metadata": {
        "id": "HlObhYzcIt4q"
      },
      "source": [
        "\n",
        "# Flare times on a GOES XRS plot\n",
        "\n",
        "How to plot flare times as provided by the HEK on a GOES XRS plot.\n"
      ]
    },
    {
      "cell_type": "code",
      "source": [
        "!pip install sunpy[all]"
      ],
      "metadata": {
        "id": "hZG5A1wII6tB"
      },
      "execution_count": null,
      "outputs": []
    },
    {
      "cell_type": "code",
      "execution_count": null,
      "metadata": {
        "id": "EqEWIMzeIt4s"
      },
      "outputs": [],
      "source": [
        "import matplotlib.pyplot as plt\n",
        "\n",
        "from sunpy.net import Fido\n",
        "from sunpy.net import attrs as a\n",
        "from sunpy.time import parse_time\n",
        "from sunpy.timeseries import TimeSeries"
      ]
    },
    {
      "cell_type": "markdown",
      "metadata": {
        "id": "oGJZydrYIt4t"
      },
      "source": [
        "Let's grab GOES XRS data for a particular time of interest and the HEK flare\n",
        "data for this time from the NOAA Space Weather Prediction Center (SWPC).\n",
        "Here we are searching for data from the GOES-15 satellite and for the 1-min average time-sampled data.\n",
        "\n"
      ]
    },
    {
      "cell_type": "code",
      "execution_count": null,
      "metadata": {
        "id": "YyTo2_fjIt4t"
      },
      "outputs": [],
      "source": [
        "tr = a.Time('2024-10-01 00:00', '2024-11-01 00:00')\n",
        "results = Fido.search(tr, a.Instrument.xrs & a.goes.SatelliteNumber(16) & a.Resolution(\"avg1m\") | a.hek.FL & (a.hek.FRM.Name == 'SWPC'))"
      ]
    },
    {
      "cell_type": "markdown",
      "metadata": {
        "id": "WXpKEczpIt4t"
      },
      "source": [
        "Then download the XRS data and load it into a TimeSeries.\n",
        "\n"
      ]
    },
    {
      "cell_type": "code",
      "execution_count": null,
      "metadata": {
        "id": "daOm_as4It4t"
      },
      "outputs": [],
      "source": [
        "files = Fido.fetch(results)\n",
        "goes = TimeSeries(files)"
      ]
    },
    {
      "cell_type": "markdown",
      "metadata": {
        "id": "QqDk_mdpIt4u"
      },
      "source": [
        "Next let's retrieve `~sunpy.net.hek.HEKTable` from the Fido result\n",
        "and then load the first row from HEK results into ``flares_hek``.\n",
        "\n"
      ]
    },
    {
      "cell_type": "code",
      "execution_count": null,
      "metadata": {
        "id": "vd4HgFzYIt4u"
      },
      "outputs": [],
      "source": [
        "hek_results = results['hek']\n",
        "flares_hek = hek_results[0]"
      ]
    },
    {
      "cell_type": "code",
      "source": [
        "len(hek_results), len(goes)"
      ],
      "metadata": {
        "id": "AYMeIaJfLxpu"
      },
      "execution_count": null,
      "outputs": []
    },
    {
      "cell_type": "markdown",
      "metadata": {
        "id": "4vl_j4VNIt4u"
      },
      "source": [
        "Lets plot everything together.\n",
        "\n"
      ]
    },
    {
      "cell_type": "code",
      "execution_count": null,
      "metadata": {
        "id": "l9YgdJyzIt4u"
      },
      "outputs": [],
      "source": [
        "fig, ax = plt.subplots()\n",
        "goes[0].plot(axes=ax)\n",
        "ax.axvline(parse_time(flares_hek['event_peaktime']).datetime)\n",
        "ax.axvspan(\n",
        "    parse_time(flares_hek['event_starttime']).datetime,\n",
        "    parse_time(flares_hek['event_endtime']).datetime,\n",
        "    alpha=0.2, label=flares_hek['fl_goescls']\n",
        ")\n",
        "ax.legend(loc=2)\n",
        "ax.set_yscale('log')\n",
        "ax.set_xlim(tr.start.to_datetime(), tr.end.to_datetime())\n",
        "\n",
        "plt.show()"
      ]
    },
    {
      "cell_type": "code",
      "source": [
        "import numpy as np\n",
        "\n",
        "np.array([10**-exp for exp in range(3, 11)])"
      ],
      "metadata": {
        "id": "sTRnOGajYjc3"
      },
      "execution_count": null,
      "outputs": []
    },
    {
      "cell_type": "code",
      "execution_count": null,
      "metadata": {
        "id": "EGFZM35HMQBR"
      },
      "outputs": [],
      "source": [
        "from datetime import timedelta\n",
        "\n",
        "flare_type = 'X'\n",
        "fig, ax = plt.subplots(figsize=(15, 5))\n",
        "\n",
        "ax.plot(goes[0].to_dataframe()['xrsa'], lw=1, color='r',label='xrsa',alpha=0.8)\n",
        "ax.plot(goes[0].to_dataframe()['xrsb'], lw=1, color='b',label='xrsb',alpha=0.8)\n",
        "\n",
        "for i in range(1,len(goes)):\n",
        "  # goes[i].plot(axes=ax)\n",
        "  ax.plot(goes[i].to_dataframe()['xrsa'], lw=1, color='r',alpha=0.8)\n",
        "  ax.plot(goes[i].to_dataframe()['xrsb'], lw=1, color='b',alpha=0.8)\n",
        "\n",
        "nr_flares = 1\n",
        "for i in range(len(hek_results)):\n",
        "  flares_hek = hek_results[i]\n",
        "  if str(flares_hek['fl_goescls'])[0] == str(flare_type):\n",
        "    ax.axvline(parse_time(flares_hek['event_peaktime']).datetime,linestyle=':',color='k')\n",
        "    ax.axvspan(\n",
        "        parse_time(flares_hek['event_starttime']).datetime,\n",
        "        parse_time(flares_hek['event_endtime']).datetime,\n",
        "        alpha=0.2,) # label=flares_hek['fl_goescls'])\n",
        "    ax.text(parse_time(flares_hek['event_peaktime']).datetime + timedelta(hours=2),15**-(3+(nr_flares%3)/6),str(flares_hek['fl_goescls']),fontsize=8)\n",
        "    nr_flares = nr_flares+1\n",
        "\n",
        "for exp in range(3, 10):\n",
        "  ax.axhline(10**-exp, lw=0.5, color='grey', linestyle='dashed')\n",
        "\n",
        "ax.legend(loc=2)\n",
        "ax.set_yscale('log')\n",
        "ax.set_xlim(tr.start.to_datetime(), tr.end.to_datetime())\n",
        "\n",
        "ax2 = ax.twinx()\n",
        "ax2.set_yscale('log')\n",
        "ax2.set_yticks(np.array([10**-(exp+0.5) for exp in range(3,8)]))\n",
        "ax2.set_yticklabels(['X','M','C','B','A'],fontweight='bold')\n",
        "ax2.set_ylim(ax.get_ylim())\n",
        "\n",
        "ax.set_title(f\"GOES-16 XRS - Flares {flare_type}\\n {tr.start.to_datetime().strftime('%Y-%m-%d %Hh%Mm%Ss')} - {tr.end.to_datetime().strftime('%Y-%m-%d %Hh%Mm%Ss')}\")\n",
        "\n",
        "plt.show()"
      ]
    },
    {
      "cell_type": "code",
      "source": [
        "tr.start.to_datetime().strftime('%Y-%m-%d-%H-%M'), tr.end.to_datetime().strftime('%Y-%m-%d-%H-%M')"
      ],
      "metadata": {
        "id": "houTX_azi_Bh"
      },
      "execution_count": null,
      "outputs": []
    },
    {
      "cell_type": "code",
      "source": [
        "goes[0]"
      ],
      "metadata": {
        "id": "dA3eNqQ2Q9CP"
      },
      "execution_count": null,
      "outputs": []
    },
    {
      "cell_type": "code",
      "source": [
        "goes[0].to_dataframe()['xrsa']"
      ],
      "metadata": {
        "id": "M1tAKri1RY8u"
      },
      "execution_count": null,
      "outputs": []
    },
    {
      "cell_type": "code",
      "source": [
        "dir(goes[0])"
      ],
      "metadata": {
        "id": "1j8ifW8tRKf1"
      },
      "execution_count": null,
      "outputs": []
    },
    {
      "cell_type": "code",
      "source": [
        "for key in hek_results[0].keys():\n",
        "  print(key, hek_results[0][key])"
      ],
      "metadata": {
        "id": "yWNifNbzOUUp"
      },
      "execution_count": null,
      "outputs": []
    },
    {
      "cell_type": "code",
      "source": [
        "str(hek_results[0]['fl_goescls'])"
      ],
      "metadata": {
        "id": "321CTyOfPxDo"
      },
      "execution_count": null,
      "outputs": []
    },
    {
      "cell_type": "code",
      "source": [
        "str(hek_results[0]['fl_goescls'])[0] == str('C')"
      ],
      "metadata": {
        "id": "KjU3xwr-NY79"
      },
      "execution_count": null,
      "outputs": []
    }
  ],
  "metadata": {
    "kernelspec": {
      "display_name": "Python 3",
      "language": "python",
      "name": "python3"
    },
    "language_info": {
      "codemirror_mode": {
        "name": "ipython",
        "version": 3
      },
      "file_extension": ".py",
      "mimetype": "text/x-python",
      "name": "python",
      "nbconvert_exporter": "python",
      "pygments_lexer": "ipython3",
      "version": "3.13.5"
    },
    "colab": {
      "provenance": [],
      "include_colab_link": true
    }
  },
  "nbformat": 4,
  "nbformat_minor": 0
}