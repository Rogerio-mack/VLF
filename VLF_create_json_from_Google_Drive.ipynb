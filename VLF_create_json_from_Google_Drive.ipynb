{
  "nbformat": 4,
  "nbformat_minor": 0,
  "metadata": {
    "colab": {
      "provenance": [],
      "collapsed_sections": [],
      "mount_file_id": "1WaE6VcgpHuOJagDQ54GeeerniAHYXnxd",
      "authorship_tag": "ABX9TyOsQ5qjvsC/91meRC6R2nWo",
      "include_colab_link": true
    },
    "kernelspec": {
      "name": "python3",
      "display_name": "Python 3"
    },
    "language_info": {
      "name": "python"
    },
    "widgets": {
      "application/vnd.jupyter.widget-state+json": {
        "f0c0a0518a2b433b965c2fe6fde6f48d": {
          "model_module": "@jupyter-widgets/controls",
          "model_name": "HBoxModel",
          "model_module_version": "1.5.0",
          "state": {
            "_dom_classes": [],
            "_model_module": "@jupyter-widgets/controls",
            "_model_module_version": "1.5.0",
            "_model_name": "HBoxModel",
            "_view_count": null,
            "_view_module": "@jupyter-widgets/controls",
            "_view_module_version": "1.5.0",
            "_view_name": "HBoxView",
            "box_style": "",
            "children": [
              "IPY_MODEL_cbc6b61ed16d4a9eabecd5ed63045551",
              "IPY_MODEL_16d50c45d18143cc8b4e243235061b1c",
              "IPY_MODEL_f2ea4013f8004dc39de946f6ba72b2ac"
            ],
            "layout": "IPY_MODEL_1c5c1a6024154656a8f1554fc36d005f"
          }
        },
        "cbc6b61ed16d4a9eabecd5ed63045551": {
          "model_module": "@jupyter-widgets/controls",
          "model_name": "HTMLModel",
          "model_module_version": "1.5.0",
          "state": {
            "_dom_classes": [],
            "_model_module": "@jupyter-widgets/controls",
            "_model_module_version": "1.5.0",
            "_model_name": "HTMLModel",
            "_view_count": null,
            "_view_module": "@jupyter-widgets/controls",
            "_view_module_version": "1.5.0",
            "_view_name": "HTMLView",
            "description": "",
            "description_tooltip": null,
            "layout": "IPY_MODEL_72b45c647e6842d38b6cc9c5f430b4f9",
            "placeholder": "​",
            "style": "IPY_MODEL_e344b65c51df49a8b67e35ab64654e3e",
            "value": "Files processing: 100%"
          }
        },
        "16d50c45d18143cc8b4e243235061b1c": {
          "model_module": "@jupyter-widgets/controls",
          "model_name": "FloatProgressModel",
          "model_module_version": "1.5.0",
          "state": {
            "_dom_classes": [],
            "_model_module": "@jupyter-widgets/controls",
            "_model_module_version": "1.5.0",
            "_model_name": "FloatProgressModel",
            "_view_count": null,
            "_view_module": "@jupyter-widgets/controls",
            "_view_module_version": "1.5.0",
            "_view_name": "ProgressView",
            "bar_style": "success",
            "description": "",
            "description_tooltip": null,
            "layout": "IPY_MODEL_2b7ee239d6514ff193579b182e7c1262",
            "max": 24511,
            "min": 0,
            "orientation": "horizontal",
            "style": "IPY_MODEL_5bf4459ffefb46b999137b190fb3fc73",
            "value": 24511
          }
        },
        "f2ea4013f8004dc39de946f6ba72b2ac": {
          "model_module": "@jupyter-widgets/controls",
          "model_name": "HTMLModel",
          "model_module_version": "1.5.0",
          "state": {
            "_dom_classes": [],
            "_model_module": "@jupyter-widgets/controls",
            "_model_module_version": "1.5.0",
            "_model_name": "HTMLModel",
            "_view_count": null,
            "_view_module": "@jupyter-widgets/controls",
            "_view_module_version": "1.5.0",
            "_view_name": "HTMLView",
            "description": "",
            "description_tooltip": null,
            "layout": "IPY_MODEL_20792e180b904b24a74baf80ee80d559",
            "placeholder": "​",
            "style": "IPY_MODEL_cedc53b32dca40f981075b5d44423e1b",
            "value": " 24511/24511 [00:01&lt;00:00, 14121.66it/s]"
          }
        },
        "1c5c1a6024154656a8f1554fc36d005f": {
          "model_module": "@jupyter-widgets/base",
          "model_name": "LayoutModel",
          "model_module_version": "1.2.0",
          "state": {
            "_model_module": "@jupyter-widgets/base",
            "_model_module_version": "1.2.0",
            "_model_name": "LayoutModel",
            "_view_count": null,
            "_view_module": "@jupyter-widgets/base",
            "_view_module_version": "1.2.0",
            "_view_name": "LayoutView",
            "align_content": null,
            "align_items": null,
            "align_self": null,
            "border": null,
            "bottom": null,
            "display": null,
            "flex": null,
            "flex_flow": null,
            "grid_area": null,
            "grid_auto_columns": null,
            "grid_auto_flow": null,
            "grid_auto_rows": null,
            "grid_column": null,
            "grid_gap": null,
            "grid_row": null,
            "grid_template_areas": null,
            "grid_template_columns": null,
            "grid_template_rows": null,
            "height": null,
            "justify_content": null,
            "justify_items": null,
            "left": null,
            "margin": null,
            "max_height": null,
            "max_width": null,
            "min_height": null,
            "min_width": null,
            "object_fit": null,
            "object_position": null,
            "order": null,
            "overflow": null,
            "overflow_x": null,
            "overflow_y": null,
            "padding": null,
            "right": null,
            "top": null,
            "visibility": null,
            "width": null
          }
        },
        "72b45c647e6842d38b6cc9c5f430b4f9": {
          "model_module": "@jupyter-widgets/base",
          "model_name": "LayoutModel",
          "model_module_version": "1.2.0",
          "state": {
            "_model_module": "@jupyter-widgets/base",
            "_model_module_version": "1.2.0",
            "_model_name": "LayoutModel",
            "_view_count": null,
            "_view_module": "@jupyter-widgets/base",
            "_view_module_version": "1.2.0",
            "_view_name": "LayoutView",
            "align_content": null,
            "align_items": null,
            "align_self": null,
            "border": null,
            "bottom": null,
            "display": null,
            "flex": null,
            "flex_flow": null,
            "grid_area": null,
            "grid_auto_columns": null,
            "grid_auto_flow": null,
            "grid_auto_rows": null,
            "grid_column": null,
            "grid_gap": null,
            "grid_row": null,
            "grid_template_areas": null,
            "grid_template_columns": null,
            "grid_template_rows": null,
            "height": null,
            "justify_content": null,
            "justify_items": null,
            "left": null,
            "margin": null,
            "max_height": null,
            "max_width": null,
            "min_height": null,
            "min_width": null,
            "object_fit": null,
            "object_position": null,
            "order": null,
            "overflow": null,
            "overflow_x": null,
            "overflow_y": null,
            "padding": null,
            "right": null,
            "top": null,
            "visibility": null,
            "width": null
          }
        },
        "e344b65c51df49a8b67e35ab64654e3e": {
          "model_module": "@jupyter-widgets/controls",
          "model_name": "DescriptionStyleModel",
          "model_module_version": "1.5.0",
          "state": {
            "_model_module": "@jupyter-widgets/controls",
            "_model_module_version": "1.5.0",
            "_model_name": "DescriptionStyleModel",
            "_view_count": null,
            "_view_module": "@jupyter-widgets/base",
            "_view_module_version": "1.2.0",
            "_view_name": "StyleView",
            "description_width": ""
          }
        },
        "2b7ee239d6514ff193579b182e7c1262": {
          "model_module": "@jupyter-widgets/base",
          "model_name": "LayoutModel",
          "model_module_version": "1.2.0",
          "state": {
            "_model_module": "@jupyter-widgets/base",
            "_model_module_version": "1.2.0",
            "_model_name": "LayoutModel",
            "_view_count": null,
            "_view_module": "@jupyter-widgets/base",
            "_view_module_version": "1.2.0",
            "_view_name": "LayoutView",
            "align_content": null,
            "align_items": null,
            "align_self": null,
            "border": null,
            "bottom": null,
            "display": null,
            "flex": null,
            "flex_flow": null,
            "grid_area": null,
            "grid_auto_columns": null,
            "grid_auto_flow": null,
            "grid_auto_rows": null,
            "grid_column": null,
            "grid_gap": null,
            "grid_row": null,
            "grid_template_areas": null,
            "grid_template_columns": null,
            "grid_template_rows": null,
            "height": null,
            "justify_content": null,
            "justify_items": null,
            "left": null,
            "margin": null,
            "max_height": null,
            "max_width": null,
            "min_height": null,
            "min_width": null,
            "object_fit": null,
            "object_position": null,
            "order": null,
            "overflow": null,
            "overflow_x": null,
            "overflow_y": null,
            "padding": null,
            "right": null,
            "top": null,
            "visibility": null,
            "width": null
          }
        },
        "5bf4459ffefb46b999137b190fb3fc73": {
          "model_module": "@jupyter-widgets/controls",
          "model_name": "ProgressStyleModel",
          "model_module_version": "1.5.0",
          "state": {
            "_model_module": "@jupyter-widgets/controls",
            "_model_module_version": "1.5.0",
            "_model_name": "ProgressStyleModel",
            "_view_count": null,
            "_view_module": "@jupyter-widgets/base",
            "_view_module_version": "1.2.0",
            "_view_name": "StyleView",
            "bar_color": null,
            "description_width": ""
          }
        },
        "20792e180b904b24a74baf80ee80d559": {
          "model_module": "@jupyter-widgets/base",
          "model_name": "LayoutModel",
          "model_module_version": "1.2.0",
          "state": {
            "_model_module": "@jupyter-widgets/base",
            "_model_module_version": "1.2.0",
            "_model_name": "LayoutModel",
            "_view_count": null,
            "_view_module": "@jupyter-widgets/base",
            "_view_module_version": "1.2.0",
            "_view_name": "LayoutView",
            "align_content": null,
            "align_items": null,
            "align_self": null,
            "border": null,
            "bottom": null,
            "display": null,
            "flex": null,
            "flex_flow": null,
            "grid_area": null,
            "grid_auto_columns": null,
            "grid_auto_flow": null,
            "grid_auto_rows": null,
            "grid_column": null,
            "grid_gap": null,
            "grid_row": null,
            "grid_template_areas": null,
            "grid_template_columns": null,
            "grid_template_rows": null,
            "height": null,
            "justify_content": null,
            "justify_items": null,
            "left": null,
            "margin": null,
            "max_height": null,
            "max_width": null,
            "min_height": null,
            "min_width": null,
            "object_fit": null,
            "object_position": null,
            "order": null,
            "overflow": null,
            "overflow_x": null,
            "overflow_y": null,
            "padding": null,
            "right": null,
            "top": null,
            "visibility": null,
            "width": null
          }
        },
        "cedc53b32dca40f981075b5d44423e1b": {
          "model_module": "@jupyter-widgets/controls",
          "model_name": "DescriptionStyleModel",
          "model_module_version": "1.5.0",
          "state": {
            "_model_module": "@jupyter-widgets/controls",
            "_model_module_version": "1.5.0",
            "_model_name": "DescriptionStyleModel",
            "_view_count": null,
            "_view_module": "@jupyter-widgets/base",
            "_view_module_version": "1.2.0",
            "_view_name": "StyleView",
            "description_width": ""
          }
        }
      }
    }
  },
  "cells": [
    {
      "cell_type": "markdown",
      "metadata": {
        "id": "view-in-github",
        "colab_type": "text"
      },
      "source": [
        "<a href=\"https://colab.research.google.com/github/Rogerio-mack/VLF/blob/main/VLF_create_json_from_Google_Drive.ipynb\" target=\"_parent\"><img src=\"https://colab.research.google.com/assets/colab-badge.svg\" alt=\"Open In Colab\"/></a>"
      ]
    },
    {
      "cell_type": "markdown",
      "source": [
        "# This script\n",
        "\n",
        "Para todos os compartilhamentos do Google Drive do usuário `client_id | client_secret` gera um `json_VLF.json` do tipo:\n",
        "\n",
        "```\n",
        "dict_files[collection][dir_year][dir_type][dir_station][dir_date][fname] = {'id': row['id'],'mimeType': row['mimeType'],'path': row['path']}\n",
        "```\n",
        "\n",
        "Para todos os arquivos VLF no formato awesome. Um exemplo de saída: \n",
        "\n",
        "```\n",
        "VLF:\n",
        "  '2007':\n",
        "    narrowband:\n",
        "      FE:\n",
        "        '2007_07_10':\n",
        "          FE070710000500NAA_006A.mat:\n",
        "            id: 1FuieXUCB0x2s-Wvej3di1eFkcy_KP1_E\n",
        "            mimeType: application/octet-stream\n",
        "            path: Not Available\n",
        "          FE070710000500NAA_006B.mat:\n",
        "            id: 1yGs4BVV6RD1SihCNccobqRw-YPhWZlkq\n",
        "            mimeType: application/octet-stream\n",
        "            path: Not Available\n",
        "    broadband:\n",
        "      SP:\n",
        "        ...\n",
        "\n",
        "  '2011':\n",
        "    broadband:\n",
        "      SP:\n",
        "        '2011_11_26':\n",
        "          SP111126000000_001.mat:\n",
        "            id: 1ItILI1UTvjVgzcbRSqjCx4D-A5aBjNCT\n",
        "            mimeType: application/octet-stream\n",
        "            path: Not Available\n",
        "          ...\n",
        "          SP111126001500_001.mat:\n",
        "            id: 1iunzZuR6XYN0Kb5LOPWA3MfGC7dvtf54\n",
        "            ...\n",
        "      TA:\n",
        "        '2011_01_02':\n",
        "          TA110102032412_000.mat:\n",
        "            id: 1-TOGJArb62-wqAqC6CW3cjt5N5AdsBrI\n",
        "            mimeType: application/octet-stream\n",
        "            path: Not Available\n",
        "      ...\n",
        "    'end_point_type': GoogleDrive  \n",
        "```"
      ],
      "metadata": {
        "id": "EutqxOySumpq"
      }
    },
    {
      "cell_type": "markdown",
      "source": [
        "# Install"
      ],
      "metadata": {
        "id": "EooyWIVBqS8n"
      }
    },
    {
      "cell_type": "code",
      "source": [
        "!pip install names"
      ],
      "metadata": {
        "colab": {
          "base_uri": "https://localhost:8080/"
        },
        "id": "z5lOUMxUy1EZ",
        "outputId": "fd1df7c0-52d0-4d11-f996-7122a510e40c"
      },
      "execution_count": null,
      "outputs": [
        {
          "output_type": "stream",
          "name": "stdout",
          "text": [
            "Looking in indexes: https://pypi.org/simple, https://us-python.pkg.dev/colab-wheels/public/simple/\n",
            "Requirement already satisfied: names in /usr/local/lib/python3.7/dist-packages (0.3.0)\n"
          ]
        }
      ]
    },
    {
      "cell_type": "markdown",
      "source": [
        "# Imports"
      ],
      "metadata": {
        "id": "Bc2IQq1IqXKd"
      }
    },
    {
      "cell_type": "code",
      "source": [
        "import os\n",
        "import sys\n",
        "import numpy as np\n",
        "import pandas as pd\n",
        "import shutil\n",
        "from google.colab import drive\n",
        "\n",
        "import yaml\n",
        "import json\n",
        "import datetime \n",
        "import time\n",
        "import random\n",
        "import names\n",
        "\n",
        "import shutil\n",
        "import time\n",
        "from tqdm.auto import tqdm"
      ],
      "metadata": {
        "id": "E3cKl2f9yvMh"
      },
      "execution_count": null,
      "outputs": []
    },
    {
      "cell_type": "markdown",
      "source": [
        "# Google Drive Set Up\n",
        "\n"
      ],
      "metadata": {
        "id": "kXzbr-f7sbEE"
      }
    },
    {
      "cell_type": "markdown",
      "source": [
        "## Google Drive API imports"
      ],
      "metadata": {
        "id": "aUriTW_tsdDE"
      }
    },
    {
      "cell_type": "code",
      "source": [
        "from google.auth.transport.requests import Request\n",
        "from google.oauth2.credentials import Credentials\n",
        "from google_auth_oauthlib.flow import InstalledAppFlow\n",
        "from googleapiclient.discovery import build\n",
        "from googleapiclient.errors import HttpError\n",
        "from googleapiclient.http import MediaFileUpload\n"
      ],
      "metadata": {
        "id": "LYBFrG9WsS3v"
      },
      "execution_count": null,
      "outputs": []
    },
    {
      "cell_type": "markdown",
      "source": [
        "## Google Drive SCOPES and client secret"
      ],
      "metadata": {
        "id": "Jwy2tGtGrVNV"
      }
    },
    {
      "cell_type": "code",
      "source": [
        "import getpass\n",
        "\n",
        "client_id = getpass.getpass('Enter your client_id:')\n",
        "client_secret = getpass.getpass('Enter your client_secret:')"
      ],
      "metadata": {
        "colab": {
          "base_uri": "https://localhost:8080/"
        },
        "id": "_uhpHw7yqnvT",
        "outputId": "c1ddf198-d8fb-490d-c3ee-7babe0238740"
      },
      "execution_count": null,
      "outputs": [
        {
          "name": "stdout",
          "output_type": "stream",
          "text": [
            "Enter your client_id:··········\n",
            "Enter your client_secret:··········\n"
          ]
        }
      ]
    },
    {
      "cell_type": "code",
      "source": [
        "SCOPES = [\"https://www.googleapis.com/auth/drive\"]\n",
        "\n",
        "client_secret = {\"installed\":{\"client_id\":client_id,\n",
        "                              \"project_id\":\"projectvlf\",\"auth_uri\":\"https://accounts.google.com/o/oauth2/auth\",\n",
        "                              \"token_uri\":\"https://oauth2.googleapis.com/token\",\n",
        "                              \"auth_provider_x509_cert_url\":\"https://www.googleapis.com/oauth2/v1/certs\",\n",
        "                              \"client_secret\":client_secret,\n",
        "                              \"redirect_uris\":[\"http://localhost\"]}}\n",
        "\n",
        "with open(\"client_secret.json\", \"w\") as outfile:\n",
        "    json.dump(client_secret, outfile)"
      ],
      "metadata": {
        "id": "QZGF6KJ6A2Sn"
      },
      "execution_count": null,
      "outputs": []
    },
    {
      "cell_type": "markdown",
      "source": [
        "# `get_Google_credentials(client_secret_file=\"client_secret.json\", SCOPES=SCOPES)`\n",
        "\n",
        "And create drive instance."
      ],
      "metadata": {
        "id": "23ttRFk7tdKm"
      }
    },
    {
      "cell_type": "code",
      "source": [
        "def get_Google_credentials(client_secret_file=\"client_secret.json\", SCOPES=SCOPES):\n",
        "\n",
        "  creds = None\n",
        "  # The file token.json stores the user's access and refresh tokens, and is\n",
        "  # created automatically when the authorization flow completes for the first\n",
        "  # time.\n",
        "\n",
        "  if os.path.exists(\"token.json\"):\n",
        "      creds = Credentials.from_authorized_user_file(\"token.json\", SCOPES)\n",
        "\n",
        "  # If there are no (valid) credentials available, let the user log in.\n",
        "  if not creds or not creds.valid:\n",
        "      if creds and creds.expired and creds.refresh_token:\n",
        "          creds.refresh(Request())\n",
        "      else:\n",
        "          flow = InstalledAppFlow.from_client_secrets_file(client_secret_file, SCOPES)\n",
        "          creds = flow.run_console()  # run_local_server(port=0)\n",
        "      \n",
        "      # Save the credentials for the next run\n",
        "      with open(\"token.json\", \"w\") as token:\n",
        "          token.write(creds.to_json())\n",
        "\n",
        "  return creds\n",
        "\n",
        "creds = get_Google_credentials()\n",
        "service = build(\"drive\", \"v3\", credentials=creds)"
      ],
      "metadata": {
        "id": "b41NKp_S8TJn"
      },
      "execution_count": null,
      "outputs": []
    },
    {
      "cell_type": "markdown",
      "source": [
        "# `create_Google_df_files(service)`"
      ],
      "metadata": {
        "id": "h0saBefMwxmA"
      }
    },
    {
      "cell_type": "code",
      "source": [
        "def create_Google_df_files(service):\n",
        "\n",
        "  page_size = 500\n",
        "  query = \"name contains '.mat' and mimeType = 'application/octet-stream'\"\n",
        "  fields = \"nextPageToken, files(id, name, mimeType)\"\n",
        "\n",
        "  data = service.files().list(pageSize=page_size, \n",
        "                              q = query,\n",
        "                              fields=fields, \n",
        "                              includeItemsFromAllDrives=False, \n",
        "                              supportsAllDrives=True).execute()\n",
        "\n",
        "  df = pd.DataFrame()\n",
        "  df = pd.concat([df,pd.DataFrame(data['files'])])\n",
        "  df = df.reset_index(drop=True)\n",
        "  \n",
        "  print(len(df), ' files processed')\n",
        "\n",
        "  while 'nextPageToken' in data.keys():\n",
        "\n",
        "    data = service.files().list(pageToken=data['nextPageToken'], pageSize=500, \n",
        "                                q = query,\n",
        "                                fields=fields, \n",
        "                                includeItemsFromAllDrives=False, \n",
        "                                supportsAllDrives=True).execute()\n",
        "\n",
        "    df = pd.concat([df,pd.DataFrame(data['files'])])\n",
        "    df = df.reset_index(drop=True)\n",
        "\n",
        "    print(len(df), ' files processed')\n",
        "\n",
        "  df.rename(columns={'name':'fname'},inplace=True)\n",
        "  df = df[['fname', 'id', 'mimeType']]\n",
        "\n",
        "  return df\n",
        "\n",
        "df_files = create_Google_df_files(service)\n",
        "display(df_files)"
      ],
      "metadata": {
        "colab": {
          "base_uri": "https://localhost:8080/",
          "height": 1000
        },
        "id": "a6VUSn6dnO4c",
        "outputId": "8137189d-bd0d-4e04-9e5d-c0ccaac6e3a8"
      },
      "execution_count": null,
      "outputs": [
        {
          "output_type": "stream",
          "name": "stdout",
          "text": [
            "500  files processed\n",
            "1000  files processed\n",
            "1500  files processed\n",
            "2000  files processed\n",
            "2500  files processed\n",
            "3000  files processed\n",
            "3500  files processed\n",
            "4000  files processed\n",
            "4500  files processed\n",
            "5000  files processed\n",
            "5500  files processed\n",
            "6000  files processed\n",
            "6500  files processed\n",
            "7000  files processed\n",
            "7500  files processed\n",
            "8000  files processed\n",
            "8500  files processed\n",
            "9000  files processed\n",
            "9500  files processed\n",
            "10000  files processed\n",
            "10500  files processed\n",
            "11000  files processed\n",
            "11500  files processed\n",
            "12000  files processed\n",
            "12500  files processed\n",
            "13000  files processed\n",
            "13500  files processed\n",
            "14000  files processed\n",
            "14500  files processed\n",
            "15000  files processed\n",
            "15500  files processed\n",
            "16000  files processed\n",
            "16500  files processed\n",
            "17000  files processed\n",
            "17500  files processed\n",
            "18000  files processed\n",
            "18500  files processed\n",
            "19000  files processed\n",
            "19500  files processed\n",
            "20000  files processed\n",
            "20500  files processed\n",
            "21000  files processed\n",
            "21500  files processed\n",
            "22000  files processed\n",
            "22500  files processed\n",
            "23000  files processed\n",
            "23500  files processed\n",
            "24000  files processed\n",
            "24500  files processed\n",
            "24524  files processed\n"
          ]
        },
        {
          "output_type": "display_data",
          "data": {
            "text/plain": [
              "                        fname                                 id  \\\n",
              "0      JU210806000000_001.mat  1CVIQl8by0ktHVN7sKjifD3EGpKo8OZrq   \n",
              "1      TA210908000000_000.mat  16dE9mL4_JSN0-2PAwnP9xmlExHDtSWKE   \n",
              "2      JU200806000000_000.mat  12ScpslapIOhtKXHeZybNnxlKOKHQLDHy   \n",
              "3      JU220806000000_001.mat  1CGHJEPailQwb6Pow-RhchNcYUS8Lxjhb   \n",
              "4      JU210806000000_000.mat  1COp282mprC9kCXY-XGXc9WbofdQ3A7ZV   \n",
              "...                       ...                                ...   \n",
              "24519  SP111126000500_001.mat  1g43X5PpkWZ6pHhhPjVfKuEl2rf-3CHkS   \n",
              "24520  SP111126000500_000.mat  1gbf4C9tIG30bd5IGCLSCieyGKi-M89l5   \n",
              "24521  TA110102032500_000.mat  1v4jtQYADfNiD5oD3SkfImtLoH5EwHt13   \n",
              "24522  TA110102032412_001.mat  1i5BN5kc3FM1XzOovgEMnG6YwGC3haxdq   \n",
              "24523  TA110102032412_000.mat  1-TOGJArb62-wqAqC6CW3cjt5N5AdsBrI   \n",
              "\n",
              "                       mimeType  \n",
              "0      application/octet-stream  \n",
              "1      application/octet-stream  \n",
              "2      application/octet-stream  \n",
              "3      application/octet-stream  \n",
              "4      application/octet-stream  \n",
              "...                         ...  \n",
              "24519  application/octet-stream  \n",
              "24520  application/octet-stream  \n",
              "24521  application/octet-stream  \n",
              "24522  application/octet-stream  \n",
              "24523  application/octet-stream  \n",
              "\n",
              "[24524 rows x 3 columns]"
            ],
            "text/html": [
              "\n",
              "  <div id=\"df-e846ebe2-5860-46b3-a135-40a4fad1fe81\">\n",
              "    <div class=\"colab-df-container\">\n",
              "      <div>\n",
              "<style scoped>\n",
              "    .dataframe tbody tr th:only-of-type {\n",
              "        vertical-align: middle;\n",
              "    }\n",
              "\n",
              "    .dataframe tbody tr th {\n",
              "        vertical-align: top;\n",
              "    }\n",
              "\n",
              "    .dataframe thead th {\n",
              "        text-align: right;\n",
              "    }\n",
              "</style>\n",
              "<table border=\"1\" class=\"dataframe\">\n",
              "  <thead>\n",
              "    <tr style=\"text-align: right;\">\n",
              "      <th></th>\n",
              "      <th>fname</th>\n",
              "      <th>id</th>\n",
              "      <th>mimeType</th>\n",
              "    </tr>\n",
              "  </thead>\n",
              "  <tbody>\n",
              "    <tr>\n",
              "      <th>0</th>\n",
              "      <td>JU210806000000_001.mat</td>\n",
              "      <td>1CVIQl8by0ktHVN7sKjifD3EGpKo8OZrq</td>\n",
              "      <td>application/octet-stream</td>\n",
              "    </tr>\n",
              "    <tr>\n",
              "      <th>1</th>\n",
              "      <td>TA210908000000_000.mat</td>\n",
              "      <td>16dE9mL4_JSN0-2PAwnP9xmlExHDtSWKE</td>\n",
              "      <td>application/octet-stream</td>\n",
              "    </tr>\n",
              "    <tr>\n",
              "      <th>2</th>\n",
              "      <td>JU200806000000_000.mat</td>\n",
              "      <td>12ScpslapIOhtKXHeZybNnxlKOKHQLDHy</td>\n",
              "      <td>application/octet-stream</td>\n",
              "    </tr>\n",
              "    <tr>\n",
              "      <th>3</th>\n",
              "      <td>JU220806000000_001.mat</td>\n",
              "      <td>1CGHJEPailQwb6Pow-RhchNcYUS8Lxjhb</td>\n",
              "      <td>application/octet-stream</td>\n",
              "    </tr>\n",
              "    <tr>\n",
              "      <th>4</th>\n",
              "      <td>JU210806000000_000.mat</td>\n",
              "      <td>1COp282mprC9kCXY-XGXc9WbofdQ3A7ZV</td>\n",
              "      <td>application/octet-stream</td>\n",
              "    </tr>\n",
              "    <tr>\n",
              "      <th>...</th>\n",
              "      <td>...</td>\n",
              "      <td>...</td>\n",
              "      <td>...</td>\n",
              "    </tr>\n",
              "    <tr>\n",
              "      <th>24519</th>\n",
              "      <td>SP111126000500_001.mat</td>\n",
              "      <td>1g43X5PpkWZ6pHhhPjVfKuEl2rf-3CHkS</td>\n",
              "      <td>application/octet-stream</td>\n",
              "    </tr>\n",
              "    <tr>\n",
              "      <th>24520</th>\n",
              "      <td>SP111126000500_000.mat</td>\n",
              "      <td>1gbf4C9tIG30bd5IGCLSCieyGKi-M89l5</td>\n",
              "      <td>application/octet-stream</td>\n",
              "    </tr>\n",
              "    <tr>\n",
              "      <th>24521</th>\n",
              "      <td>TA110102032500_000.mat</td>\n",
              "      <td>1v4jtQYADfNiD5oD3SkfImtLoH5EwHt13</td>\n",
              "      <td>application/octet-stream</td>\n",
              "    </tr>\n",
              "    <tr>\n",
              "      <th>24522</th>\n",
              "      <td>TA110102032412_001.mat</td>\n",
              "      <td>1i5BN5kc3FM1XzOovgEMnG6YwGC3haxdq</td>\n",
              "      <td>application/octet-stream</td>\n",
              "    </tr>\n",
              "    <tr>\n",
              "      <th>24523</th>\n",
              "      <td>TA110102032412_000.mat</td>\n",
              "      <td>1-TOGJArb62-wqAqC6CW3cjt5N5AdsBrI</td>\n",
              "      <td>application/octet-stream</td>\n",
              "    </tr>\n",
              "  </tbody>\n",
              "</table>\n",
              "<p>24524 rows × 3 columns</p>\n",
              "</div>\n",
              "      <button class=\"colab-df-convert\" onclick=\"convertToInteractive('df-e846ebe2-5860-46b3-a135-40a4fad1fe81')\"\n",
              "              title=\"Convert this dataframe to an interactive table.\"\n",
              "              style=\"display:none;\">\n",
              "        \n",
              "  <svg xmlns=\"http://www.w3.org/2000/svg\" height=\"24px\"viewBox=\"0 0 24 24\"\n",
              "       width=\"24px\">\n",
              "    <path d=\"M0 0h24v24H0V0z\" fill=\"none\"/>\n",
              "    <path d=\"M18.56 5.44l.94 2.06.94-2.06 2.06-.94-2.06-.94-.94-2.06-.94 2.06-2.06.94zm-11 1L8.5 8.5l.94-2.06 2.06-.94-2.06-.94L8.5 2.5l-.94 2.06-2.06.94zm10 10l.94 2.06.94-2.06 2.06-.94-2.06-.94-.94-2.06-.94 2.06-2.06.94z\"/><path d=\"M17.41 7.96l-1.37-1.37c-.4-.4-.92-.59-1.43-.59-.52 0-1.04.2-1.43.59L10.3 9.45l-7.72 7.72c-.78.78-.78 2.05 0 2.83L4 21.41c.39.39.9.59 1.41.59.51 0 1.02-.2 1.41-.59l7.78-7.78 2.81-2.81c.8-.78.8-2.07 0-2.86zM5.41 20L4 18.59l7.72-7.72 1.47 1.35L5.41 20z\"/>\n",
              "  </svg>\n",
              "      </button>\n",
              "      \n",
              "  <style>\n",
              "    .colab-df-container {\n",
              "      display:flex;\n",
              "      flex-wrap:wrap;\n",
              "      gap: 12px;\n",
              "    }\n",
              "\n",
              "    .colab-df-convert {\n",
              "      background-color: #E8F0FE;\n",
              "      border: none;\n",
              "      border-radius: 50%;\n",
              "      cursor: pointer;\n",
              "      display: none;\n",
              "      fill: #1967D2;\n",
              "      height: 32px;\n",
              "      padding: 0 0 0 0;\n",
              "      width: 32px;\n",
              "    }\n",
              "\n",
              "    .colab-df-convert:hover {\n",
              "      background-color: #E2EBFA;\n",
              "      box-shadow: 0px 1px 2px rgba(60, 64, 67, 0.3), 0px 1px 3px 1px rgba(60, 64, 67, 0.15);\n",
              "      fill: #174EA6;\n",
              "    }\n",
              "\n",
              "    [theme=dark] .colab-df-convert {\n",
              "      background-color: #3B4455;\n",
              "      fill: #D2E3FC;\n",
              "    }\n",
              "\n",
              "    [theme=dark] .colab-df-convert:hover {\n",
              "      background-color: #434B5C;\n",
              "      box-shadow: 0px 1px 3px 1px rgba(0, 0, 0, 0.15);\n",
              "      filter: drop-shadow(0px 1px 2px rgba(0, 0, 0, 0.3));\n",
              "      fill: #FFFFFF;\n",
              "    }\n",
              "  </style>\n",
              "\n",
              "      <script>\n",
              "        const buttonEl =\n",
              "          document.querySelector('#df-e846ebe2-5860-46b3-a135-40a4fad1fe81 button.colab-df-convert');\n",
              "        buttonEl.style.display =\n",
              "          google.colab.kernel.accessAllowed ? 'block' : 'none';\n",
              "\n",
              "        async function convertToInteractive(key) {\n",
              "          const element = document.querySelector('#df-e846ebe2-5860-46b3-a135-40a4fad1fe81');\n",
              "          const dataTable =\n",
              "            await google.colab.kernel.invokeFunction('convertToInteractive',\n",
              "                                                     [key], {});\n",
              "          if (!dataTable) return;\n",
              "\n",
              "          const docLinkHtml = 'Like what you see? Visit the ' +\n",
              "            '<a target=\"_blank\" href=https://colab.research.google.com/notebooks/data_table.ipynb>data table notebook</a>'\n",
              "            + ' to learn more about interactive tables.';\n",
              "          element.innerHTML = '';\n",
              "          dataTable['output_type'] = 'display_data';\n",
              "          await google.colab.output.renderOutput(dataTable, element);\n",
              "          const docLink = document.createElement('div');\n",
              "          docLink.innerHTML = docLinkHtml;\n",
              "          element.appendChild(docLink);\n",
              "        }\n",
              "      </script>\n",
              "    </div>\n",
              "  </div>\n",
              "  "
            ]
          },
          "metadata": {}
        }
      ]
    },
    {
      "cell_type": "markdown",
      "source": [
        "# `get_Google_path(fileId)`"
      ],
      "metadata": {
        "id": "kbj2wPWww2tP"
      }
    },
    {
      "cell_type": "code",
      "source": [
        "def get_Google_path(fileId):\n",
        "\n",
        "  tree = []   \n",
        "  file = service.files().get(fileId=fileId, fields='id, name, parents').execute()\n",
        "  parent = file.get('parents')\n",
        "  if parent:\n",
        "      while True:\n",
        "          folder = service.files().get(\n",
        "              fileId=parent[0], fields='id, name, parents').execute()\n",
        "          parent = folder.get('parents')\n",
        "          if parent is None:\n",
        "              break\n",
        "          # tree.append({'id': parent[0], 'name': folder.get('name')})\n",
        "          tree.append('/' + folder.get('name'))\n",
        "\n",
        "  tree.reverse()\n",
        "  path = ''\n",
        "  for d in tree:\n",
        "    path = path + d\n",
        "\n",
        "  return path\n",
        "\n",
        "paths = []  \n",
        "for _, row in df_files.head().iterrows():            # We really don't need this, so just get a few...  \n",
        "  paths.append( get_Google_path(row['id']) )\n",
        "\n",
        "paths"
      ],
      "metadata": {
        "id": "hrES3YcxnQMy",
        "colab": {
          "base_uri": "https://localhost:8080/"
        },
        "outputId": "6e4742d2-1423-4795-d3a7-ae09c9782df2"
      },
      "execution_count": null,
      "outputs": [
        {
          "output_type": "execute_result",
          "data": {
            "text/plain": [
              "['/2021/broadband/Juneau/2021_08_06',\n",
              " '/CRAAM_VLF/2021/broadband/Taylor/2021_09_08',\n",
              " '/CRAAM_VLF/2020/broadband/Juneau/2020_08_06',\n",
              " '/2022/broadband/Juneau/2022_08_06',\n",
              " '/2021/broadband/Juneau/2021_08_06']"
            ]
          },
          "metadata": {},
          "execution_count": 8
        }
      ]
    },
    {
      "cell_type": "code",
      "source": [
        "df_files['path'] = 'Not Available'\n",
        "display(df_files)"
      ],
      "metadata": {
        "id": "kqTSc5Ghut2q",
        "colab": {
          "base_uri": "https://localhost:8080/",
          "height": 424
        },
        "outputId": "85ae84f5-c1ab-4d79-ceba-0802c48a8c61"
      },
      "execution_count": null,
      "outputs": [
        {
          "output_type": "display_data",
          "data": {
            "text/plain": [
              "                        fname                                 id  \\\n",
              "0      JU210806000000_001.mat  1CVIQl8by0ktHVN7sKjifD3EGpKo8OZrq   \n",
              "1      TA210908000000_000.mat  16dE9mL4_JSN0-2PAwnP9xmlExHDtSWKE   \n",
              "2      JU200806000000_000.mat  12ScpslapIOhtKXHeZybNnxlKOKHQLDHy   \n",
              "3      JU220806000000_001.mat  1CGHJEPailQwb6Pow-RhchNcYUS8Lxjhb   \n",
              "4      JU210806000000_000.mat  1COp282mprC9kCXY-XGXc9WbofdQ3A7ZV   \n",
              "...                       ...                                ...   \n",
              "24519  SP111126000500_001.mat  1g43X5PpkWZ6pHhhPjVfKuEl2rf-3CHkS   \n",
              "24520  SP111126000500_000.mat  1gbf4C9tIG30bd5IGCLSCieyGKi-M89l5   \n",
              "24521  TA110102032500_000.mat  1v4jtQYADfNiD5oD3SkfImtLoH5EwHt13   \n",
              "24522  TA110102032412_001.mat  1i5BN5kc3FM1XzOovgEMnG6YwGC3haxdq   \n",
              "24523  TA110102032412_000.mat  1-TOGJArb62-wqAqC6CW3cjt5N5AdsBrI   \n",
              "\n",
              "                       mimeType           path  \n",
              "0      application/octet-stream  Not Available  \n",
              "1      application/octet-stream  Not Available  \n",
              "2      application/octet-stream  Not Available  \n",
              "3      application/octet-stream  Not Available  \n",
              "4      application/octet-stream  Not Available  \n",
              "...                         ...            ...  \n",
              "24519  application/octet-stream  Not Available  \n",
              "24520  application/octet-stream  Not Available  \n",
              "24521  application/octet-stream  Not Available  \n",
              "24522  application/octet-stream  Not Available  \n",
              "24523  application/octet-stream  Not Available  \n",
              "\n",
              "[24524 rows x 4 columns]"
            ],
            "text/html": [
              "\n",
              "  <div id=\"df-d94fc4ab-d724-4278-920f-cc083dab7a37\">\n",
              "    <div class=\"colab-df-container\">\n",
              "      <div>\n",
              "<style scoped>\n",
              "    .dataframe tbody tr th:only-of-type {\n",
              "        vertical-align: middle;\n",
              "    }\n",
              "\n",
              "    .dataframe tbody tr th {\n",
              "        vertical-align: top;\n",
              "    }\n",
              "\n",
              "    .dataframe thead th {\n",
              "        text-align: right;\n",
              "    }\n",
              "</style>\n",
              "<table border=\"1\" class=\"dataframe\">\n",
              "  <thead>\n",
              "    <tr style=\"text-align: right;\">\n",
              "      <th></th>\n",
              "      <th>fname</th>\n",
              "      <th>id</th>\n",
              "      <th>mimeType</th>\n",
              "      <th>path</th>\n",
              "    </tr>\n",
              "  </thead>\n",
              "  <tbody>\n",
              "    <tr>\n",
              "      <th>0</th>\n",
              "      <td>JU210806000000_001.mat</td>\n",
              "      <td>1CVIQl8by0ktHVN7sKjifD3EGpKo8OZrq</td>\n",
              "      <td>application/octet-stream</td>\n",
              "      <td>Not Available</td>\n",
              "    </tr>\n",
              "    <tr>\n",
              "      <th>1</th>\n",
              "      <td>TA210908000000_000.mat</td>\n",
              "      <td>16dE9mL4_JSN0-2PAwnP9xmlExHDtSWKE</td>\n",
              "      <td>application/octet-stream</td>\n",
              "      <td>Not Available</td>\n",
              "    </tr>\n",
              "    <tr>\n",
              "      <th>2</th>\n",
              "      <td>JU200806000000_000.mat</td>\n",
              "      <td>12ScpslapIOhtKXHeZybNnxlKOKHQLDHy</td>\n",
              "      <td>application/octet-stream</td>\n",
              "      <td>Not Available</td>\n",
              "    </tr>\n",
              "    <tr>\n",
              "      <th>3</th>\n",
              "      <td>JU220806000000_001.mat</td>\n",
              "      <td>1CGHJEPailQwb6Pow-RhchNcYUS8Lxjhb</td>\n",
              "      <td>application/octet-stream</td>\n",
              "      <td>Not Available</td>\n",
              "    </tr>\n",
              "    <tr>\n",
              "      <th>4</th>\n",
              "      <td>JU210806000000_000.mat</td>\n",
              "      <td>1COp282mprC9kCXY-XGXc9WbofdQ3A7ZV</td>\n",
              "      <td>application/octet-stream</td>\n",
              "      <td>Not Available</td>\n",
              "    </tr>\n",
              "    <tr>\n",
              "      <th>...</th>\n",
              "      <td>...</td>\n",
              "      <td>...</td>\n",
              "      <td>...</td>\n",
              "      <td>...</td>\n",
              "    </tr>\n",
              "    <tr>\n",
              "      <th>24519</th>\n",
              "      <td>SP111126000500_001.mat</td>\n",
              "      <td>1g43X5PpkWZ6pHhhPjVfKuEl2rf-3CHkS</td>\n",
              "      <td>application/octet-stream</td>\n",
              "      <td>Not Available</td>\n",
              "    </tr>\n",
              "    <tr>\n",
              "      <th>24520</th>\n",
              "      <td>SP111126000500_000.mat</td>\n",
              "      <td>1gbf4C9tIG30bd5IGCLSCieyGKi-M89l5</td>\n",
              "      <td>application/octet-stream</td>\n",
              "      <td>Not Available</td>\n",
              "    </tr>\n",
              "    <tr>\n",
              "      <th>24521</th>\n",
              "      <td>TA110102032500_000.mat</td>\n",
              "      <td>1v4jtQYADfNiD5oD3SkfImtLoH5EwHt13</td>\n",
              "      <td>application/octet-stream</td>\n",
              "      <td>Not Available</td>\n",
              "    </tr>\n",
              "    <tr>\n",
              "      <th>24522</th>\n",
              "      <td>TA110102032412_001.mat</td>\n",
              "      <td>1i5BN5kc3FM1XzOovgEMnG6YwGC3haxdq</td>\n",
              "      <td>application/octet-stream</td>\n",
              "      <td>Not Available</td>\n",
              "    </tr>\n",
              "    <tr>\n",
              "      <th>24523</th>\n",
              "      <td>TA110102032412_000.mat</td>\n",
              "      <td>1-TOGJArb62-wqAqC6CW3cjt5N5AdsBrI</td>\n",
              "      <td>application/octet-stream</td>\n",
              "      <td>Not Available</td>\n",
              "    </tr>\n",
              "  </tbody>\n",
              "</table>\n",
              "<p>24524 rows × 4 columns</p>\n",
              "</div>\n",
              "      <button class=\"colab-df-convert\" onclick=\"convertToInteractive('df-d94fc4ab-d724-4278-920f-cc083dab7a37')\"\n",
              "              title=\"Convert this dataframe to an interactive table.\"\n",
              "              style=\"display:none;\">\n",
              "        \n",
              "  <svg xmlns=\"http://www.w3.org/2000/svg\" height=\"24px\"viewBox=\"0 0 24 24\"\n",
              "       width=\"24px\">\n",
              "    <path d=\"M0 0h24v24H0V0z\" fill=\"none\"/>\n",
              "    <path d=\"M18.56 5.44l.94 2.06.94-2.06 2.06-.94-2.06-.94-.94-2.06-.94 2.06-2.06.94zm-11 1L8.5 8.5l.94-2.06 2.06-.94-2.06-.94L8.5 2.5l-.94 2.06-2.06.94zm10 10l.94 2.06.94-2.06 2.06-.94-2.06-.94-.94-2.06-.94 2.06-2.06.94z\"/><path d=\"M17.41 7.96l-1.37-1.37c-.4-.4-.92-.59-1.43-.59-.52 0-1.04.2-1.43.59L10.3 9.45l-7.72 7.72c-.78.78-.78 2.05 0 2.83L4 21.41c.39.39.9.59 1.41.59.51 0 1.02-.2 1.41-.59l7.78-7.78 2.81-2.81c.8-.78.8-2.07 0-2.86zM5.41 20L4 18.59l7.72-7.72 1.47 1.35L5.41 20z\"/>\n",
              "  </svg>\n",
              "      </button>\n",
              "      \n",
              "  <style>\n",
              "    .colab-df-container {\n",
              "      display:flex;\n",
              "      flex-wrap:wrap;\n",
              "      gap: 12px;\n",
              "    }\n",
              "\n",
              "    .colab-df-convert {\n",
              "      background-color: #E8F0FE;\n",
              "      border: none;\n",
              "      border-radius: 50%;\n",
              "      cursor: pointer;\n",
              "      display: none;\n",
              "      fill: #1967D2;\n",
              "      height: 32px;\n",
              "      padding: 0 0 0 0;\n",
              "      width: 32px;\n",
              "    }\n",
              "\n",
              "    .colab-df-convert:hover {\n",
              "      background-color: #E2EBFA;\n",
              "      box-shadow: 0px 1px 2px rgba(60, 64, 67, 0.3), 0px 1px 3px 1px rgba(60, 64, 67, 0.15);\n",
              "      fill: #174EA6;\n",
              "    }\n",
              "\n",
              "    [theme=dark] .colab-df-convert {\n",
              "      background-color: #3B4455;\n",
              "      fill: #D2E3FC;\n",
              "    }\n",
              "\n",
              "    [theme=dark] .colab-df-convert:hover {\n",
              "      background-color: #434B5C;\n",
              "      box-shadow: 0px 1px 3px 1px rgba(0, 0, 0, 0.15);\n",
              "      filter: drop-shadow(0px 1px 2px rgba(0, 0, 0, 0.3));\n",
              "      fill: #FFFFFF;\n",
              "    }\n",
              "  </style>\n",
              "\n",
              "      <script>\n",
              "        const buttonEl =\n",
              "          document.querySelector('#df-d94fc4ab-d724-4278-920f-cc083dab7a37 button.colab-df-convert');\n",
              "        buttonEl.style.display =\n",
              "          google.colab.kernel.accessAllowed ? 'block' : 'none';\n",
              "\n",
              "        async function convertToInteractive(key) {\n",
              "          const element = document.querySelector('#df-d94fc4ab-d724-4278-920f-cc083dab7a37');\n",
              "          const dataTable =\n",
              "            await google.colab.kernel.invokeFunction('convertToInteractive',\n",
              "                                                     [key], {});\n",
              "          if (!dataTable) return;\n",
              "\n",
              "          const docLinkHtml = 'Like what you see? Visit the ' +\n",
              "            '<a target=\"_blank\" href=https://colab.research.google.com/notebooks/data_table.ipynb>data table notebook</a>'\n",
              "            + ' to learn more about interactive tables.';\n",
              "          element.innerHTML = '';\n",
              "          dataTable['output_type'] = 'display_data';\n",
              "          await google.colab.output.renderOutput(dataTable, element);\n",
              "          const docLink = document.createElement('div');\n",
              "          docLink.innerHTML = docLinkHtml;\n",
              "          element.appendChild(docLink);\n",
              "        }\n",
              "      </script>\n",
              "    </div>\n",
              "  </div>\n",
              "  "
            ]
          },
          "metadata": {}
        }
      ]
    },
    {
      "cell_type": "markdown",
      "source": [
        "# Generate `name_conventions.json` and `name_conventions` `dict`"
      ],
      "metadata": {
        "id": "_GNRkuF9IYDL"
      }
    },
    {
      "cell_type": "code",
      "source": [
        "# Narrowband Files\n",
        "#-------------------------------------------------------------------------------\n",
        "# Filename: XXYYMMDDHHMMSSZZZ_ACCT.mat\n",
        "\n",
        "# XX – Station ID\n",
        "# YY – Year\n",
        "# MM — Month\n",
        "# DD — Day\n",
        "# HH — Hour\n",
        "# MM — Minute\n",
        "# SS — Second\n",
        "# ZZZ — Transmitter Callsign\n",
        "# A — Usually not used\n",
        "# CC — 00 for N/S channel, 01 for E/W channel\n",
        "# T — Type of data\n",
        "# A is low resolution (1 Hz sampling rate) amplitude\n",
        "# B is low resolution (1 Hz sampling rate) phase\n",
        "# C is high resolution (50 Hz sampling rate) amplitude\n",
        "# D is high resolution (50 Hz sampling rate) phase\n",
        "# F is high resolution (50 Hz sampling rate) effective group delay\n",
        "\n",
        "# XXYYMMDDHHMMSSZZZ_ACCT.mat\n",
        "# 01234567890123456789012345\n",
        "\n",
        "# Braoadband Files\n",
        "#-------------------------------------------------------------------------------\n",
        "# Filename: XXYYMMDDHHMMSS_ACC.mat\n",
        "\n",
        "# XX – Station ID\n",
        "# YY – Year\n",
        "# MM — Month\n",
        "# DD — Day\n",
        "# HH — Hour\n",
        "# MM — Minute\n",
        "# SS — Second\n",
        "# A — Sampling rate. 0 for 100 kHz sampled data (VLF), 1 for 1 MHz sampled data (LF), 2 for 25 kHz sampled data (Siple station experiment).\n",
        "# CC — 00 for N/S channel, 01 for E/W channel\n",
        "\n",
        "# XXYYMMDDHHMMSS_ACC.mat\n",
        "# 0123456789012345678901 \n",
        "\n",
        "name_conventions = {\n",
        "    \n",
        "'narrowband' : {    \n",
        "  'Station_ID':       [0,1],\n",
        "  'Year':             [2,3],\n",
        "  'Month':            [4,5],\n",
        "  'Day':              [6,7],\n",
        "  'Hour':             [8,9],\n",
        "  'Minute':           [10,11],\n",
        "  'Second':           [12,13],\n",
        "  'Transmitter':      [14,16],\n",
        "  '_':                [17,17],\n",
        "  'Usually not used': [18,18],\n",
        "  'CC':               [19,20],\n",
        "  # CC — 00 for N/S channel, 01 for E/W channel\n",
        "  'Type_ABCDF':       [21,21],\n",
        "  # A is low resolution (1 Hz sampling rate) amplitude\n",
        "  # B is low resolution (1 Hz sampling rate) phase\n",
        "  # C is high resolution (50 Hz sampling rate) amplitude\n",
        "  # D is high resolution (50 Hz sampling rate) phase\n",
        "  # F is high resolution (50 Hz sampling rate) effective group delay\n",
        "  '.mat':             [22,25]\n",
        "  },\n",
        "\n",
        "'broadband' : { \n",
        "  'Station_ID':       [0,1],\n",
        "  'Year':             [2,3],\n",
        "  'Month':            [4,5],\n",
        "  'Day':              [6,7],\n",
        "  'Hour':             [8,9],\n",
        "  'Minute':           [10,11],\n",
        "  'Second':           [12,13],\n",
        "  '_':                [14,14],\n",
        "  'A':                [15,15],\n",
        "  # A — Sampling rate. 0 for 100 kHz sampled data (VLF), 1 for 1 MHz sampled data (LF), 2 for 25 kHz sampled data (Siple station experiment). \n",
        "  'CC':               [16,17],\n",
        "  # CC — 00 for N/S channel, 01 for E/W channel\n",
        "  '.mat':             [18,21]\n",
        "  }  \n",
        "\n",
        "}\n",
        "\n",
        "f = open(\"name_conventions.json\", \"w\")\n",
        "f.write(json.dumps(name_conventions))\n",
        "f.close()\n",
        "\n",
        "with open(\"name_conventions.json\") as json_file:\n",
        "  name_conventions = json.load(json_file)\n",
        "\n",
        "print(name_conventions)\n",
        "print(name_conventions['narrowband'])"
      ],
      "metadata": {
        "colab": {
          "base_uri": "https://localhost:8080/"
        },
        "id": "A_Nc-SarMTJc",
        "outputId": "5422faee-6af6-49bd-a2ce-d555a17c9282"
      },
      "execution_count": null,
      "outputs": [
        {
          "output_type": "stream",
          "name": "stdout",
          "text": [
            "{'narrowband': {'Station_ID': [0, 1], 'Year': [2, 3], 'Month': [4, 5], 'Day': [6, 7], 'Hour': [8, 9], 'Minute': [10, 11], 'Second': [12, 13], 'Transmitter': [14, 16], '_': [17, 17], 'Usually not used': [18, 18], 'CC': [19, 20], 'Type_ABCDF': [21, 21], '.mat': [22, 25]}, 'broadband': {'Station_ID': [0, 1], 'Year': [2, 3], 'Month': [4, 5], 'Day': [6, 7], 'Hour': [8, 9], 'Minute': [10, 11], 'Second': [12, 13], '_': [14, 14], 'A': [15, 15], 'CC': [16, 17], '.mat': [18, 21]}}\n",
            "{'Station_ID': [0, 1], 'Year': [2, 3], 'Month': [4, 5], 'Day': [6, 7], 'Hour': [8, 9], 'Minute': [10, 11], 'Second': [12, 13], 'Transmitter': [14, 16], '_': [17, 17], 'Usually not used': [18, 18], 'CC': [19, 20], 'Type_ABCDF': [21, 21], '.mat': [22, 25]}\n"
          ]
        }
      ]
    },
    {
      "cell_type": "markdown",
      "source": [
        "# `get_from_name(fname, field, type_band='narrowband',...)`"
      ],
      "metadata": {
        "id": "0tstmpqYJDPz"
      }
    },
    {
      "cell_type": "code",
      "source": [
        "def get_from_name(fname, field, type_band='narrowband', name_conventions=name_conventions):\n",
        "  \n",
        "  return fname[ int(name_conventions[type_band][field][0]) : int(name_conventions[type_band][field][1]) + 1 ]\n",
        "\n",
        "with open(\"name_conventions.json\") as json_file:\n",
        "  name_conventions = json.load(json_file)\n",
        "      \n",
        "fname = 'AL110505000000NAA_101A.mat'\n",
        "print(get_from_name(fname,'Station_ID'))\n",
        "\n",
        "for key in name_conventions['narrowband'].keys():\n",
        "  print(key,' : ', get_from_name(fname,key))"
      ],
      "metadata": {
        "colab": {
          "base_uri": "https://localhost:8080/"
        },
        "id": "fUmEdvkLgNcg",
        "outputId": "bdff894c-0147-4c76-9664-8c1c3efc3fb6"
      },
      "execution_count": null,
      "outputs": [
        {
          "output_type": "stream",
          "name": "stdout",
          "text": [
            "AL\n",
            "Station_ID  :  AL\n",
            "Year  :  11\n",
            "Month  :  05\n",
            "Day  :  05\n",
            "Hour  :  00\n",
            "Minute  :  00\n",
            "Second  :  00\n",
            "Transmitter  :  NAA\n",
            "_  :  _\n",
            "Usually not used  :  1\n",
            "CC  :  01\n",
            "Type_ABCDF  :  A\n",
            ".mat  :  .mat\n"
          ]
        }
      ]
    },
    {
      "cell_type": "markdown",
      "source": [
        "# `what_type(path, fname)`"
      ],
      "metadata": {
        "id": "tNPEbZNMJbaD"
      }
    },
    {
      "cell_type": "code",
      "source": [
        "import datetime \n",
        "\n",
        "def what_type(path, fname):\n",
        "# narrowband \n",
        "# XXYYMMDDHHMMSSZZZ_ACCT.mat\n",
        "# 01234567890123456789012345\n",
        "\n",
        "# broadband\n",
        "# XXYYMMDDHHMMSS_ACC.mat\n",
        "# 0123456789012345678901 \n",
        "\n",
        "  if fname.split('.')[-1] != 'mat': return None\n",
        "  if fname.count('_') != 1: return None\n",
        "  if fname.count('.') != 1: return None\n",
        "\n",
        "  try:\n",
        "    datetime.datetime(int('20' + get_from_name(fname,'Year')),\n",
        "                      int(get_from_name(fname,'Month')),\n",
        "                      int(get_from_name(fname,'Day')),\n",
        "                      int(get_from_name(fname,'Hour')),\n",
        "                      int(get_from_name(fname,'Minute')),\n",
        "                      int(get_from_name(fname,'Second')))\n",
        "  except:\n",
        "    return None\n",
        "\n",
        "  for type_band in ['narrowband','broadband']:\n",
        "    if (fname.find('_') ==  name_conventions[type_band]['_'][0]) and (fname.find('.mat') ==  name_conventions[type_band]['.mat'][0]):\n",
        "      return type_band  \n",
        "\n",
        "  return None\n",
        "\n",
        "print('ok')\n",
        "print( what_type(None,'MH210113000000DHO_101A.mat') )\n",
        "print( what_type(None,'CH200721053000_001.mat') )\n",
        "print( what_type(None,'CH000721053000_001.mat') )\n",
        "print()\n",
        "\n",
        "print('nok')\n",
        "print( what_type(None,'CH0a0721053000_001.mat') )\n",
        "print( what_type(None,'CH000721053060_001.mat') )\n",
        "print( what_type(None,'CH222021053000_001.mat') )\n",
        "print( what_type(None,'MH210160000000DHO_101A.mat') )\n",
        "print( what_type(None,'MH210113000060DHO_101A.mat') )\n",
        "print( what_type(None,'MH210140000000DHO_101A.mat') )\n",
        "print( what_type(None,'teste1.mat') )\n",
        "print( what_type(None,'teste2_asd.mat') )\n",
        "print( what_type(None,'teste2_asd.csv') )"
      ],
      "metadata": {
        "colab": {
          "base_uri": "https://localhost:8080/"
        },
        "id": "MrgVhNCAgySA",
        "outputId": "c3cb0b2a-d4a4-4534-833a-81a30b0ccd16"
      },
      "execution_count": null,
      "outputs": [
        {
          "output_type": "stream",
          "name": "stdout",
          "text": [
            "ok\n",
            "narrowband\n",
            "broadband\n",
            "broadband\n",
            "\n",
            "nok\n",
            "None\n",
            "None\n",
            "None\n",
            "None\n",
            "None\n",
            "None\n",
            "None\n",
            "None\n",
            "None\n"
          ]
        }
      ]
    },
    {
      "cell_type": "markdown",
      "source": [
        "## Set type narrowband, broadband or None\n",
        "Exclude None types"
      ],
      "metadata": {
        "id": "N6nEk9swySnu"
      }
    },
    {
      "cell_type": "code",
      "source": [
        "df_files['type'] = df_files.fname.apply(lambda x: what_type(None,x))\n",
        "\n",
        "print( len(df_files[   df_files['type'].isnull() ]), ' None files excluded.' )\n",
        "df_files = df_files[ - df_files['type'].isnull() ]\n",
        "df_files = df_files.reset_index(drop=True)\n",
        "df_files.head()\n",
        "\n",
        "print( len(df_files), ' Valid files.' )"
      ],
      "metadata": {
        "colab": {
          "base_uri": "https://localhost:8080/"
        },
        "id": "S-XRhrJQz0cL",
        "outputId": "aaab4adc-6496-4bd3-b49e-97ddd9d21f14"
      },
      "execution_count": null,
      "outputs": [
        {
          "output_type": "stream",
          "name": "stdout",
          "text": [
            "13  None files excluded.\n",
            "24511  Valid files.\n"
          ]
        }
      ]
    },
    {
      "cell_type": "markdown",
      "source": [
        "# `create_keys(df_files, collection='VLF', dict_stations=None)`"
      ],
      "metadata": {
        "id": "NKLwP_hTzMKO"
      }
    },
    {
      "cell_type": "code",
      "source": [
        "def create_keys(df_files, collection='VLF', end_point_type = 'GoogleDrive', dict_stations=None):\n",
        "\n",
        "  dict_files = {}\n",
        "\n",
        "  if collection     not in dict_files.keys():\n",
        "    dict_files[collection] = {}\n",
        "\n",
        "  if end_point_type not in dict_files[collection].keys():\n",
        "    dict_files[collection]['end_point_type'] = end_point_type\n",
        "\n",
        "  pbar = tqdm(desc='Files processing', total=len(df_files))\n",
        "\n",
        "  for ix, row in df_files.iterrows():\n",
        "    pbar.update(1)\n",
        "\n",
        "    fname = row['fname']\n",
        "\n",
        "    dir_type = what_type(None,fname)\n",
        "\n",
        "    if dir_type not in ['narrowband','broadband']:\n",
        "      # sys.exit('There is an inconsistent type_band in df_files. ' + str(fname) + ' is type ' + str(dir_type))\n",
        "      print('There is an inconsistent type_band in df_files. ' + str(fname) + ' is type ' + str(dir_type))\n",
        "      continue\n",
        "\n",
        "    dir_year =  '20' + get_from_name(fname,'Year')\n",
        "\n",
        "    dir_date =  '20' + get_from_name(fname,'Year') + '_' + \\\n",
        "                get_from_name(fname,'Month') + '_' + \\\n",
        "                get_from_name(fname,'Day')\n",
        "\n",
        "    dir_station = get_from_name(fname,'Station_ID')\n",
        "\n",
        "    if dict_stations is not None:\n",
        "      if dir_station in dict_stations.keys():\n",
        "        dir_station = dict_stations[dir_station]\n",
        "\n",
        "    if dir_year       not in dict_files[collection].keys():\n",
        "      dict_files[collection][dir_year] = {}\n",
        "\n",
        "    if dir_type       not in dict_files[collection][dir_year].keys():\n",
        "      dict_files[collection][dir_year][dir_type] = {}\n",
        "\n",
        "    if dir_station    not in dict_files[collection][dir_year][dir_type].keys():\n",
        "      dict_files[collection][dir_year][dir_type][dir_station] = {}\n",
        "\n",
        "    if dir_date       not in dict_files[collection][dir_year][dir_type][dir_station].keys():\n",
        "      dict_files[collection][dir_year][dir_type][dir_station][dir_date] = {}\n",
        "\n",
        "    dict_files[collection][dir_year][dir_type][dir_station][dir_date][fname] = {'id': row['id'],  \n",
        "                                                                                'mimeType': row['mimeType'], \n",
        "                                                                                'path': row['path']  }\n",
        "  \n",
        "  return dict_files\n",
        "\n",
        "dict_files = create_keys(df_files, collection='VLF', dict_stations=None)                     \n"
      ],
      "metadata": {
        "colab": {
          "base_uri": "https://localhost:8080/",
          "height": 49,
          "referenced_widgets": [
            "f0c0a0518a2b433b965c2fe6fde6f48d",
            "cbc6b61ed16d4a9eabecd5ed63045551",
            "16d50c45d18143cc8b4e243235061b1c",
            "f2ea4013f8004dc39de946f6ba72b2ac",
            "1c5c1a6024154656a8f1554fc36d005f",
            "72b45c647e6842d38b6cc9c5f430b4f9",
            "e344b65c51df49a8b67e35ab64654e3e",
            "2b7ee239d6514ff193579b182e7c1262",
            "5bf4459ffefb46b999137b190fb3fc73",
            "20792e180b904b24a74baf80ee80d559",
            "cedc53b32dca40f981075b5d44423e1b"
          ]
        },
        "id": "iCBatJpV1cE6",
        "outputId": "b244c797-8c36-4475-e659-2206c26d3820"
      },
      "execution_count": null,
      "outputs": [
        {
          "output_type": "display_data",
          "data": {
            "text/plain": [
              "Files processing:   0%|          | 0/24511 [00:00<?, ?it/s]"
            ],
            "application/vnd.jupyter.widget-view+json": {
              "version_major": 2,
              "version_minor": 0,
              "model_id": "f0c0a0518a2b433b965c2fe6fde6f48d"
            }
          },
          "metadata": {}
        }
      ]
    },
    {
      "cell_type": "code",
      "source": [
        "print( list(dict_files) )\n",
        "print( list(dict_files['VLF']) )\n",
        "print( dict_files['VLF']['end_point_type'] )\n",
        "print( list(dict_files['VLF']['2011']) )\n",
        "print( list(dict_files['VLF']['2011']['narrowband']) )\n",
        "print( list(dict_files['VLF']['2011']['narrowband']['PA']) )\n",
        "print( list(dict_files['VLF']['2011']['narrowband']['PA']['2011_05_26']) )\n",
        "print(yaml.dump(dict_files['VLF']['2011']['narrowband']['PA']['2011_05_26']) )"
      ],
      "metadata": {
        "colab": {
          "base_uri": "https://localhost:8080/"
        },
        "id": "kGuxWFpPkWkZ",
        "outputId": "50de876f-0f4a-4362-9f07-86176b249691"
      },
      "execution_count": null,
      "outputs": [
        {
          "output_type": "stream",
          "name": "stdout",
          "text": [
            "['VLF']\n",
            "['end_point_type', '2021', '2020', '2022', '2011', '2007', '2015', '2014']\n",
            "GoogleDrive\n",
            "['broadband', 'narrowband']\n",
            "['PA', 'SP']\n",
            "['2011_05_26', '2011_01_05']\n",
            "['PA110526000000GBZ_100A.mat', 'PA110526000000DHO_101D.mat', 'PA110526000000DHO_100D.mat', 'PA110526000000DHO_101C.mat', 'PA110526000000DHO_100C.mat', 'PA110526000000DHO_100F.mat', 'PA110526000000DHO_101F.mat', 'PA110526000000DHO_100A.mat', 'PA110526000000DHO_100B.mat', 'PA110526000000DHO_101A.mat', 'PA110526000000DHO_101B.mat']\n",
            "PA110526000000DHO_100A.mat:\n",
            "  id: 136xbdjPigBuLuADzie0YXdzY6aGgp_xL\n",
            "  mimeType: application/octet-stream\n",
            "  path: Not Available\n",
            "PA110526000000DHO_100B.mat:\n",
            "  id: 1GLsVWwNms5WLbdMWm673TLtMfkBrNa4p\n",
            "  mimeType: application/octet-stream\n",
            "  path: Not Available\n",
            "PA110526000000DHO_100C.mat:\n",
            "  id: 1fIk64CxOOx2DnUANFUwHJmNUw63JS2Rk\n",
            "  mimeType: application/octet-stream\n",
            "  path: Not Available\n",
            "PA110526000000DHO_100D.mat:\n",
            "  id: 10BcaGxopn9kYdEYkvSCJzbSsJCspPu5D\n",
            "  mimeType: application/octet-stream\n",
            "  path: Not Available\n",
            "PA110526000000DHO_100F.mat:\n",
            "  id: 1W_bUeGZfpuwZmN_az-Jg1brG_dEQjnhX\n",
            "  mimeType: application/octet-stream\n",
            "  path: Not Available\n",
            "PA110526000000DHO_101A.mat:\n",
            "  id: 15J_Hk4zKJtfzqTq-O8fX7_CBYbMEvN6T\n",
            "  mimeType: application/octet-stream\n",
            "  path: Not Available\n",
            "PA110526000000DHO_101B.mat:\n",
            "  id: 1Gz0uh0ajGvIftnlhARp8vbZrespNCEJN\n",
            "  mimeType: application/octet-stream\n",
            "  path: Not Available\n",
            "PA110526000000DHO_101C.mat:\n",
            "  id: 19LA0DbCLDZZnrFli78sPl-AkJ3QEg5uA\n",
            "  mimeType: application/octet-stream\n",
            "  path: Not Available\n",
            "PA110526000000DHO_101D.mat:\n",
            "  id: 1b9SRtc68WmuYKQnsXgeZtMRCjCl-2n4u\n",
            "  mimeType: application/octet-stream\n",
            "  path: Not Available\n",
            "PA110526000000DHO_101F.mat:\n",
            "  id: 10eyXUZ6m9uNbTXyBSTazyybCoNvaSoSK\n",
            "  mimeType: application/octet-stream\n",
            "  path: Not Available\n",
            "PA110526000000GBZ_100A.mat:\n",
            "  id: 1YMZd7VWezPm5NX8sCSod0C4SoAav51dx\n",
            "  mimeType: application/octet-stream\n",
            "  path: Not Available\n",
            "\n"
          ]
        }
      ]
    },
    {
      "cell_type": "code",
      "source": [
        "json_dump = json.dumps(dict_files)\n",
        "\n",
        "with open(\"json_VLF.json\", \"w\") as outfile:\n",
        "  outfile.write(json_dump)\n",
        "outfile.close()\n",
        "\n",
        "f = open(\"json_VLF.json\", \"r\") \n",
        "print(f.read(1000))"
      ],
      "metadata": {
        "colab": {
          "base_uri": "https://localhost:8080/"
        },
        "id": "agrIl_wUi8HC",
        "outputId": "ce3d6bc6-fd2a-45a0-8196-38c89082dd57"
      },
      "execution_count": null,
      "outputs": [
        {
          "output_type": "stream",
          "name": "stdout",
          "text": [
            "{\"VLF\": {\"end_point_type\": \"GoogleDrive\", \"2021\": {\"broadband\": {\"JU\": {\"2021_08_06\": {\"JU210806000000_001.mat\": {\"id\": \"14vXwZIVgb53qitlJLOtVa3S09EaqVB97\", \"mimeType\": \"application/octet-stream\", \"path\": \"Not Available\"}, \"JU210806000000_000.mat\": {\"id\": \"14iaDbzVxmu0-3wV6tKfvVGC4nIexBC1H\", \"mimeType\": \"application/octet-stream\", \"path\": \"Not Available\"}}, \"2021_08_05\": {\"JU210805214530_000.mat\": {\"id\": \"14oBYXIIHvD1DtsV0iHH7-CbdNy0s2uIf\", \"mimeType\": \"application/octet-stream\", \"path\": \"Not Available\"}, \"JU210805214530_001.mat\": {\"id\": \"1CKBszFBPXBZGCNDd87KfNzJRaXDTb6LS\", \"mimeType\": \"application/octet-stream\", \"path\": \"Not Available\"}}}, \"TA\": {\"2021_09_08\": {\"TA210908000000_000.mat\": {\"id\": \"1DKjZCf8PKG8xSpxq1scbm6lm1V30v8vt\", \"mimeType\": \"application/octet-stream\", \"path\": \"Not Available\"}, \"TA210908000000_001.mat\": {\"id\": \"1D-XAMOLLnrOTNFgkExNbD7mvoeb0pot9\", \"mimeType\": \"application/octet-stream\", \"path\": \"Not Available\"}}, \"2021_06_03\": {\"TA210603000000_000.mat\": {\"id\": \"1DfSY0p\n"
          ]
        }
      ]
    },
    {
      "cell_type": "code",
      "source": [
        "'''\n",
        "Use print(f.read(1000)) instead:\n",
        "\n",
        "!cat json_VLF.json\n",
        "\n",
        "Because return a error:\n",
        "\n",
        "The notebook server will temporarily stop sending output\n",
        "to the client in order to avoid crashing it.\n",
        "To change this limit, set the config variable\n",
        "`--NotebookApp.iopub_data_rate_limit`.\n",
        "\n",
        "Current values:\n",
        "NotebookApp.iopub_data_rate_limit=1000000.0 (bytes/sec)\n",
        "NotebookApp.rate_limit_window=3.0 (secs)\n",
        "\n",
        "'''"
      ],
      "metadata": {
        "colab": {
          "base_uri": "https://localhost:8080/",
          "height": 70
        },
        "id": "Qz590Gl0oz4K",
        "outputId": "63e4a236-39e9-4940-b288-1be23fed72ab"
      },
      "execution_count": null,
      "outputs": [
        {
          "output_type": "execute_result",
          "data": {
            "text/plain": [
              "'\\nUse print(f.read(1000)) instead:\\n\\n!cat json_VLF.json\\n\\nBecause return a error:\\n\\nThe notebook server will temporarily stop sending output\\nto the client in order to avoid crashing it.\\nTo change this limit, set the config variable\\n`--NotebookApp.iopub_data_rate_limit`.\\n\\nCurrent values:\\nNotebookApp.iopub_data_rate_limit=1000000.0 (bytes/sec)\\nNotebookApp.rate_limit_window=3.0 (secs)\\n\\n'"
            ],
            "application/vnd.google.colaboratory.intrinsic+json": {
              "type": "string"
            }
          },
          "metadata": {},
          "execution_count": 17
        }
      ]
    },
    {
      "cell_type": "code",
      "source": [
        "yaml_dump = yaml.dump(dict_files, default_flow_style=False) "
      ],
      "metadata": {
        "id": "A3CKJ0yT-5ag"
      },
      "execution_count": null,
      "outputs": []
    },
    {
      "cell_type": "code",
      "source": [
        "yaml_dump = yaml.dump(dict_files, default_flow_style=False) \n",
        "print(yaml_dump[0:5000]) # too much to print"
      ],
      "metadata": {
        "colab": {
          "base_uri": "https://localhost:8080/"
        },
        "id": "13Y7w7LujoOZ",
        "outputId": "7e02cff7-b224-4d3a-af3a-6a134f5dcdb1"
      },
      "execution_count": null,
      "outputs": [
        {
          "output_type": "stream",
          "name": "stdout",
          "text": [
            "VLF:\n",
            "  '2007':\n",
            "    narrowband:\n",
            "      FE:\n",
            "        '2007_07_10':\n",
            "          FE070710000500NAA_006A.mat:\n",
            "            id: 1FuieXUCB0x2s-Wvej3di1eFkcy_KP1_E\n",
            "            mimeType: application/octet-stream\n",
            "            path: Not Available\n",
            "          FE070710000500NAA_006B.mat:\n",
            "            id: 1yGs4BVV6RD1SihCNccobqRw-YPhWZlkq\n",
            "            mimeType: application/octet-stream\n",
            "            path: Not Available\n",
            "  '2011':\n",
            "    broadband:\n",
            "      SP:\n",
            "        '2011_11_26':\n",
            "          SP111126000000_001.mat:\n",
            "            id: 1ItILI1UTvjVgzcbRSqjCx4D-A5aBjNCT\n",
            "            mimeType: application/octet-stream\n",
            "            path: Not Available\n",
            "          SP111126000500_000.mat:\n",
            "            id: 1gbf4C9tIG30bd5IGCLSCieyGKi-M89l5\n",
            "            mimeType: application/octet-stream\n",
            "            path: Not Available\n",
            "          SP111126000500_001.mat:\n",
            "            id: 1g43X5PpkWZ6pHhhPjVfKuEl2rf-3CHkS\n",
            "            mimeType: application/octet-stream\n",
            "            path: Not Available\n",
            "          SP111126001000_000.mat:\n",
            "            id: 1XigXUb2KlngWlm0y4AgWVqB5hZiXmFUr\n",
            "            mimeType: application/octet-stream\n",
            "            path: Not Available\n",
            "          SP111126001000_001.mat:\n",
            "            id: 1aadV_M9LDtilwfICFLi3KwliqxMv1Nys\n",
            "            mimeType: application/octet-stream\n",
            "            path: Not Available\n",
            "          SP111126001500_000.mat:\n",
            "            id: 1CkdLtnOvPYcvQ7y1C3sY3R5V-mIKWuDC\n",
            "            mimeType: application/octet-stream\n",
            "            path: Not Available\n",
            "          SP111126001500_001.mat:\n",
            "            id: 1iunzZuR6XYN0Kb5LOPWA3MfGC7dvtf54\n",
            "            mimeType: application/octet-stream\n",
            "            path: Not Available\n",
            "      TA:\n",
            "        '2011_01_02':\n",
            "          TA110102032412_000.mat:\n",
            "            id: 1-TOGJArb62-wqAqC6CW3cjt5N5AdsBrI\n",
            "            mimeType: application/octet-stream\n",
            "            path: Not Available\n",
            "          TA110102032412_001.mat:\n",
            "            id: 1i5BN5kc3FM1XzOovgEMnG6YwGC3haxdq\n",
            "            mimeType: application/octet-stream\n",
            "            path: Not Available\n",
            "          TA110102032500_000.mat:\n",
            "            id: 1v4jtQYADfNiD5oD3SkfImtLoH5EwHt13\n",
            "            mimeType: application/octet-stream\n",
            "            path: Not Available\n",
            "    narrowband:\n",
            "      PA:\n",
            "        '2011_01_05':\n",
            "          PA110105000000DHO_100A.mat:\n",
            "            id: 1whqm7van4Y7LhVZWMIgGJBKy7VJC5vBp\n",
            "            mimeType: application/octet-stream\n",
            "            path: Not Available\n",
            "          PA110105000000DHO_100B.mat:\n",
            "            id: 1v0oRQixQPOFTp03RXD15DmV5lI1bDwnn\n",
            "            mimeType: application/octet-stream\n",
            "            path: Not Available\n",
            "          PA110105000000DHO_100C.mat:\n",
            "            id: 1SXzcUGVOvWJBBKaEMF7wFkB-dINXoTXR\n",
            "            mimeType: application/octet-stream\n",
            "            path: Not Available\n",
            "          PA110105000000DHO_100D.mat:\n",
            "            id: 1yo1oQSQi4EoI9wq7Z5f8smG77VJCaAA-\n",
            "            mimeType: application/octet-stream\n",
            "            path: Not Available\n",
            "          PA110105000000DHO_101A.mat:\n",
            "            id: 1C-kbbzDDDsTH2xDQGgl9hQA7OajMdmKA\n",
            "            mimeType: application/octet-stream\n",
            "            path: Not Available\n",
            "          PA110105000000DHO_101B.mat:\n",
            "            id: 1aumqppD6hSKbTfzyd2Jzy7ieInWVOmdu\n",
            "            mimeType: application/octet-stream\n",
            "            path: Not Available\n",
            "          PA110105000000DHO_101C.mat:\n",
            "            id: 1DGTqMf8UrMjk58jVykF0iNVYiVjNKC6B\n",
            "            mimeType: application/octet-stream\n",
            "            path: Not Available\n",
            "          PA110105000000DHO_101D.mat:\n",
            "            id: 1kEI1e2XapC90hqKjieWpEAp1EM4LRMpr\n",
            "            mimeType: application/octet-stream\n",
            "            path: Not Available\n",
            "          PA110105000000GBZ_100A.mat:\n",
            "            id: 1tByeYwbC3zedRURQUFsy65opKNvySSM2\n",
            "            mimeType: application/octet-stream\n",
            "            path: Not Available\n",
            "          PA110105000000GBZ_100B.mat:\n",
            "            id: 1elMrwgcxhKpFF7Dceo3SJYfkpAYTygCo\n",
            "            mimeType: application/octet-stream\n",
            "            path: Not Available\n",
            "          PA110105000000GBZ_100C.mat:\n",
            "            id: 1s-prbbdSZQJ0-FLISVvlgoo3ezfcMtdi\n",
            "            mimeType: application/octet-stream\n",
            "            path: Not Available\n",
            "        '2011_05_26':\n",
            "          PA110526000000DHO_100A.mat:\n",
            "            id: 136xbdjPigBuLuADzie0YXdzY6aGgp_xL\n",
            "            mimeType: application/octet-stream\n",
            "            path: Not Available\n",
            "          PA110526000000DHO_100B.mat:\n",
            "            id: 1GLsVWwNms5WLbdMWm673TLtMfkBrNa4p\n",
            "            mimeType: application/octet-stream\n",
            "            path: Not Available\n",
            "          PA110526000000DHO_100C.mat:\n",
            "            id: 1fIk64CxOOx2DnUANFUwHJmNUw63JS2Rk\n",
            "            mimeType: application/octet-stream\n",
            "            path: Not Available\n",
            "          PA110526000000DHO_100D.mat:\n",
            "            id: 10BcaGxopn9kYdEYkvSCJzbSsJCspPu5D\n",
            "            mimeType: application/octet-stream\n",
            "            path: Not Available\n",
            "          PA110526000000DHO_100F.mat:\n",
            "            id: 1W_bUeGZfpuwZmN_az-Jg1brG_dEQjnhX\n",
            "            mimeType: application/octet-stream\n",
            "            path: Not Available\n",
            "          PA110526000000DHO_101A.mat:\n",
            "            id: 15J_Hk4zKJtfzqTq-O8fX7_CBYbMEvN6T\n",
            "            mimeType: application/octet-stream\n",
            "       \n"
          ]
        }
      ]
    },
    {
      "cell_type": "markdown",
      "source": [
        "# Download json"
      ],
      "metadata": {
        "id": "Kqty6lz7px14"
      }
    },
    {
      "cell_type": "code",
      "source": [
        "from google.colab import files\n",
        "\n",
        "files.download('json_VLF.json')"
      ],
      "metadata": {
        "colab": {
          "base_uri": "https://localhost:8080/",
          "height": 17
        },
        "id": "Kwfm4wQzpwmC",
        "outputId": "b86adbc6-83b7-411f-8167-6697ad8e6150"
      },
      "execution_count": null,
      "outputs": [
        {
          "output_type": "display_data",
          "data": {
            "text/plain": [
              "<IPython.core.display.Javascript object>"
            ],
            "application/javascript": [
              "\n",
              "    async function download(id, filename, size) {\n",
              "      if (!google.colab.kernel.accessAllowed) {\n",
              "        return;\n",
              "      }\n",
              "      const div = document.createElement('div');\n",
              "      const label = document.createElement('label');\n",
              "      label.textContent = `Downloading \"${filename}\": `;\n",
              "      div.appendChild(label);\n",
              "      const progress = document.createElement('progress');\n",
              "      progress.max = size;\n",
              "      div.appendChild(progress);\n",
              "      document.body.appendChild(div);\n",
              "\n",
              "      const buffers = [];\n",
              "      let downloaded = 0;\n",
              "\n",
              "      const channel = await google.colab.kernel.comms.open(id);\n",
              "      // Send a message to notify the kernel that we're ready.\n",
              "      channel.send({})\n",
              "\n",
              "      for await (const message of channel.messages) {\n",
              "        // Send a message to notify the kernel that we're ready.\n",
              "        channel.send({})\n",
              "        if (message.buffers) {\n",
              "          for (const buffer of message.buffers) {\n",
              "            buffers.push(buffer);\n",
              "            downloaded += buffer.byteLength;\n",
              "            progress.value = downloaded;\n",
              "          }\n",
              "        }\n",
              "      }\n",
              "      const blob = new Blob(buffers, {type: 'application/binary'});\n",
              "      const a = document.createElement('a');\n",
              "      a.href = window.URL.createObjectURL(blob);\n",
              "      a.download = filename;\n",
              "      div.appendChild(a);\n",
              "      a.click();\n",
              "      div.remove();\n",
              "    }\n",
              "  "
            ]
          },
          "metadata": {}
        },
        {
          "output_type": "display_data",
          "data": {
            "text/plain": [
              "<IPython.core.display.Javascript object>"
            ],
            "application/javascript": [
              "download(\"download_b87dd8a9-e177-440d-9bbf-1e8a164b502b\", \"json_VLF.json\", 3432416)"
            ]
          },
          "metadata": {}
        }
      ]
    }
  ]
}