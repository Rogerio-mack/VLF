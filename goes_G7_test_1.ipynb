{
  "nbformat": 4,
  "nbformat_minor": 0,
  "metadata": {
    "colab": {
      "provenance": [],
      "authorship_tag": "ABX9TyN8ML63pgwn0BDebd5shJI4",
      "include_colab_link": true
    },
    "kernelspec": {
      "name": "python3",
      "display_name": "Python 3"
    },
    "language_info": {
      "name": "python"
    }
  },
  "cells": [
    {
      "cell_type": "markdown",
      "metadata": {
        "id": "view-in-github",
        "colab_type": "text"
      },
      "source": [
        "<a href=\"https://colab.research.google.com/github/Rogerio-mack/VLF/blob/main/goes_G7_test_1.ipynb\" target=\"_parent\"><img src=\"https://colab.research.google.com/assets/colab-badge.svg\" alt=\"Open In Colab\"/></a>"
      ]
    },
    {
      "cell_type": "code",
      "execution_count": null,
      "metadata": {
        "id": "VRDcB8HXUkex"
      },
      "outputs": [],
      "source": [
        "import numpy as np\n",
        "import matplotlib.pyplot as plt\n",
        "from datetime import datetime, timedelta\n",
        "\n",
        "import numpy as np\n",
        "import matplotlib.pyplot as plt\n",
        "from datetime import datetime, timedelta\n",
        "\n",
        "def read_7ghz(anon, nomen, path, hi, mi, hf, mf):\n",
        "    # Função principal\n",
        "\n",
        "    ano = str(anon).strip()\n",
        "    name = path + nomen\n",
        "\n",
        "    # Processamento do nome do arquivo\n",
        "    nomen = nomen.strip()\n",
        "    if len(nomen) < 8:\n",
        "        mes, dia, anom, horam = int(nomen[0]), int(nomen[1:3]), int(nomen[3:5]), int(nomen[5:7])\n",
        "    else:\n",
        "        mes, dia, anom, horam = int(nomen[0:2]), int(nomen[2:4]), int(nomen[4:6]), int(nomen[6:8])\n",
        "\n",
        "    anos = f\"{anom:02d}\"\n",
        "    horas = f\"{horam:02d}\"\n",
        "    mess = f\"{mes:02d}\"\n",
        "    dias = f\"{dia:02d}\"\n",
        "    nome = mess + dias + anos + horas\n",
        "    nomegoes = mess + dias\n",
        "    datas = f\"{mes}/{dia}/{ano}\"\n",
        "\n",
        "    # Leitura do arquivo\n",
        "    npoints = 0\n",
        "    with open(name, 'rb') as f:\n",
        "        # Pular o cabeçalho\n",
        "        f.readline()\n",
        "        while True:\n",
        "            chunk = f.read(7 * 100 * 2)  # Assumindo 2 bytes por int\n",
        "            if not chunk:\n",
        "                break\n",
        "            npoints += 100\n",
        "    npoints -= 100\n",
        "\n",
        "    # Cálculos de tempo\n",
        "    tmin = hi * 3600 + mi * 60\n",
        "    tmax = hf * 3600 + mf * 60\n",
        "\n",
        "    ymin = 0 if int(ano) < 2001 else -32000\n",
        "    ymax = 4000 if int(ano) < 2001 else 32000\n",
        "\n",
        "    # Leitura do cabeçalho para obter informações de resolução\n",
        "    with open(name, 'rb') as f:\n",
        "        header = f.readline().decode('utf-8', errors='ignore').split(' ')\n",
        "        print(header)\n",
        "\n",
        "    resol1 = 700 # int(header[5].split()[-1])\n",
        "    resol2 = 1.0 # float(header[6])\n",
        "    rt = 7 / (resol1 * 100 + resol2)\n",
        "\n",
        "    # Cálculos de índices\n",
        "    h0 = int(11) * 3600 + int(8) * 60 + int(3) # int(header[0][:2]) * 3600 + int(header[0][2:4]) * 60 + int(header[1])\n",
        "    xmin = int((tmin - h0) / rt)\n",
        "    xmax = int((tmax - h0) / rt)\n",
        "    print(xmin, xmax)\n",
        "    npoints = xmax - xmin\n",
        "\n",
        "    dim = npoints + 1\n",
        "    step = max(1, int(npoints / dim - 1))\n",
        "    kindex = dim - 1\n",
        "    nrt = rt * step\n",
        "\n",
        "    # Leitura dos dados\n",
        "    canal_R = np.zeros(kindex - 100, dtype=int)\n",
        "    canal_L = np.zeros(kindex - 100, dtype=int)\n",
        "\n",
        "    i = 0\n",
        "    with open(name, 'rb') as f:\n",
        "        f.readline()  # Pular cabeçalho\n",
        "        # f.seek(xmin * 7 * 2, 1)  # Posicionar no ponto inicial\n",
        "        data = np.fromfile(f, dtype=np.int16, count=(kindex-100)*7).reshape(-1, 7).T\n",
        "        canal_R = data[0]\n",
        "        canal_L = data[1]\n",
        "        print(len(canal_L), len(canal_R))\n",
        "        print(canal_R)\n",
        "        print(canal_L)\n",
        "\n",
        "    t = np.arange(kindex - 100) * nrt + tmin\n",
        "\n",
        "    # Conversão de tempo para formato de hora\n",
        "    time = [timedelta(seconds=int(ti)) + datetime(int(ano), int(mess), int(dias)) for ti in t]\n",
        "\n",
        "    # Plotagem\n",
        "    plt.figure(figsize=(12, 6))\n",
        "    plt.plot(time, canal_R, label='Canal R')\n",
        "    plt.plot(time, canal_L, label='Canal L')\n",
        "    plt.xlabel('Tempo')\n",
        "    plt.ylabel('Intensidade')\n",
        "    plt.title(f'Dados 7GHz - {datas}')\n",
        "    plt.legend()\n",
        "    plt.grid(True)\n",
        "    plt.gcf().autofmt_xdate()  # Rotaciona e formata os rótulos de data\n",
        "    plt.tight_layout()\n",
        "\n",
        "    # Salvar o gráfico\n",
        "    plt.savefig(f'7ghz_{nomegoes}.png')\n",
        "    plt.close()\n",
        "\n",
        "    return canal_R, canal_L, time\n",
        "\n",
        "# Exemplo de uso da função\n",
        "ano = 2025\n",
        "nomen = \"03130811\"\n",
        "path = \"/content/\"\n",
        "hi, mi = 0, 0  # hora inicial, minuto inicial\n",
        "hf, mf = 23, 59  # hora final, minuto final\n",
        "\n",
        "canal_R, canal_L, time = read_7ghz(ano, nomen, path, hi, mi, hf, mf)\n",
        "\n",
        "# Você pode fazer mais processamento com canal_R, canal_L e time aqui, se necessário\n"
      ]
    },
    {
      "cell_type": "code",
      "source": [
        "xmin"
      ],
      "metadata": {
        "id": "KsLJ4eZWcfAK"
      },
      "execution_count": null,
      "outputs": []
    },
    {
      "cell_type": "code",
      "execution_count": null,
      "metadata": {
        "id": "CLSJ6kslevs6"
      },
      "outputs": [],
      "source": [
        "import numpy as np\n",
        "import matplotlib.pyplot as plt\n",
        "from datetime import datetime, timedelta\n",
        "\n",
        "import numpy as np\n",
        "import matplotlib.pyplot as plt\n",
        "from datetime import datetime, timedelta\n",
        "\n",
        "def read_7ghz(anon, nomen, path, hi, mi, hf, mf):\n",
        "    # Função principal\n",
        "\n",
        "    ano = str(anon).strip()\n",
        "    name = path + nomen\n",
        "\n",
        "    # Processamento do nome do arquivo\n",
        "    nomen = nomen.strip()\n",
        "    if len(nomen) < 8:\n",
        "        mes, dia, anom, horam = int(nomen[0]), int(nomen[1:3]), int(nomen[3:5]), int(nomen[5:7])\n",
        "    else:\n",
        "        mes, dia, anom, horam = int(nomen[0:2]), int(nomen[2:4]), int(nomen[4:6]), int(nomen[6:8])\n",
        "\n",
        "    anos = f\"{anom:02d}\"\n",
        "    horas = f\"{horam:02d}\"\n",
        "    mess = f\"{mes:02d}\"\n",
        "    dias = f\"{dia:02d}\"\n",
        "    nome = mess + dias + anos + horas\n",
        "    nomegoes = mess + dias\n",
        "    datas = f\"{mes}/{dia}/{ano}\"\n",
        "\n",
        "    # Leitura do arquivo\n",
        "    npoints = 0\n",
        "    with open(name, 'rb') as f:\n",
        "        # Pular o cabeçalho\n",
        "        f.readline()\n",
        "        while True:\n",
        "            chunk = f.read(7 * 100 * 2)  # Assumindo 2 bytes por int\n",
        "            if not chunk:\n",
        "                break\n",
        "            npoints += 100\n",
        "    npoints -= 100\n",
        "\n",
        "    # Cálculos de tempo\n",
        "    tmin = hi * 3600 + mi * 60\n",
        "    tmax = hf * 3600 + mf * 60\n",
        "\n",
        "    ymin = 0 if int(ano) < 2001 else -32000\n",
        "    ymax = 4000 if int(ano) < 2001 else 32000\n",
        "\n",
        "    # Leitura do cabeçalho para obter informações de resolução\n",
        "    with open(name, 'rb') as f:\n",
        "        header = f.readline().decode('utf-8', errors='ignore').split(' ')\n",
        "        print(header)\n",
        "\n",
        "    resol1 = 700 # int(header[5].split()[-1])\n",
        "    resol2 = 1.0 # float(header[6])\n",
        "    rt = 7 / (resol1 * 100 + resol2)\n",
        "\n",
        "    # Cálculos de índices\n",
        "    h0 = int(11) * 3600 + int(8) * 60 + int(3) # int(header[0][:2]) * 3600 + int(header[0][2:4]) * 60 + int(header[1])\n",
        "    xmin = int((tmin - h0) / rt)\n",
        "    xmax = int((tmax - h0) / rt)\n",
        "    print(xmin, xmax)\n",
        "    npoints = xmax - xmin\n",
        "\n",
        "    dim = npoints + 1\n",
        "    step = max(1, int(npoints / dim - 1))\n",
        "    kindex = dim - 1\n",
        "    nrt = rt * step\n",
        "\n",
        "    # Leitura dos dados\n",
        "    canal_R = np.zeros(kindex - 100, dtype=int)\n",
        "    canal_L = np.zeros(kindex - 100, dtype=int)\n",
        "\n",
        "    i = 0\n",
        "    with open(name, 'rb') as f:\n",
        "        f.readline()  # Pular cabeçalho\n",
        "        # f.seek(xmin * 7 * 2, 1)  # Posicionar no ponto inicial\n",
        "        data = np.fromfile(f, dtype=np.int16, count=(kindex-100)*7).reshape(-1, 7).T\n",
        "        canal_R = data[0]\n",
        "        canal_L = data[1]\n",
        "        print(len(canal_L), len(canal_R))\n",
        "        print(canal_R)\n",
        "        print(canal_L)\n",
        "\n",
        "\n",
        "\n",
        "    return canal_R, canal_L\n",
        "\n",
        "# Exemplo de uso da função\n",
        "ano = 2025\n",
        "nomen = \"03130811\"\n",
        "path = \"/content/\"\n",
        "hi, mi = 0, 0  # hora inicial, minuto inicial\n",
        "hf, mf = 23, 59  # hora final, minuto final\n",
        "\n",
        "canal_R, canal_L = read_7ghz(ano, nomen, path, hi, mi, hf, mf)\n",
        "\n",
        "# Você pode fazer mais processamento com canal_R, canal_L e time aqui, se necessário\n"
      ]
    },
    {
      "cell_type": "code",
      "source": [
        "# Assuming the start time is 11:08:03 as indicated in the header\n",
        "ano = 2025\n",
        "nomen = \"03130811\"\n",
        "path = \"/content/\"\n",
        "hi, mi = 0, 0  # hora inicial, minuto inicial\n",
        "hf, mf = 23, 59  # hora final, minuto final\n",
        "\n",
        "# Call the function to get the necessary data\n",
        "canal_R, canal_L = read_7ghz(ano, nomen, path, hi, mi, hf, mf)\n",
        "\n",
        "# Extract month and day from the filename for the start time\n",
        "# Assuming the format is MM DD YY HH\n",
        "if len(nomen) < 8:\n",
        "    mes, dia, anom, horam = int(nomen[0]), int(nomen[1:3]), int(nomen[3:5]), int(nomen[5:7])\n",
        "else:\n",
        "    mes, dia, anom, horam = int(nomen[0:2]), int(nomen[2:4]), int(nomen[4:6]), int(nomen[6:8])\n",
        "\n",
        "start_time = datetime(ano, mes, dia, 11, 8, 3)\n",
        "\n",
        "\n",
        "# Generate a time index with 0.01 second increments\n",
        "time_index = [start_time + timedelta(seconds=i * 0.01) for i in range(len(canal_R))]\n",
        "\n",
        "# You can now use time_index for plotting or further analysis"
      ],
      "metadata": {
        "id": "m8R_QmhafkIT"
      },
      "execution_count": null,
      "outputs": []
    },
    {
      "cell_type": "code",
      "source": [
        "import pandas as pd\n",
        "df = pd.DataFrame({'Time': time_index, 'Canal_R': canal_R, 'Canal_L': canal_L})"
      ],
      "metadata": {
        "id": "IVNuVmTVgOik"
      },
      "execution_count": null,
      "outputs": []
    },
    {
      "cell_type": "code",
      "source": [
        "df.head()"
      ],
      "metadata": {
        "id": "i6haOcMUgnAO"
      },
      "execution_count": null,
      "outputs": []
    },
    {
      "cell_type": "code",
      "source": [
        "df = df.set_index('Time').resample('min').mean()\n",
        "display(df.head())"
      ],
      "metadata": {
        "id": "cKt7RzheguKw"
      },
      "execution_count": null,
      "outputs": []
    },
    {
      "cell_type": "code",
      "source": [
        "fig, ax = plt.subplots(1,1,figsize=(12, 6))\n",
        "\n",
        "ax.plot(df['Canal_L'], label='Canal L')\n",
        "ax.plot(df['Canal_R'], label='Canal R')\n",
        "ax.set_xlabel('Tempo')\n",
        "ax.set_ylabel('Intensidade')\n",
        "ax.set_title('Dados 7GHz')\n",
        "# ax.set_yscale('log')\n",
        "plt.legend()\n",
        "\n",
        "plt.show()"
      ],
      "metadata": {
        "id": "Ello_ucne9ck"
      },
      "execution_count": null,
      "outputs": []
    },
    {
      "cell_type": "markdown",
      "metadata": {
        "id": "HlObhYzcIt4q"
      },
      "source": [
        "\n",
        "# Flare times on a GOES XRS plot\n",
        "\n",
        "How to plot flare times as provided by the HEK on a GOES XRS plot.\n"
      ]
    },
    {
      "cell_type": "code",
      "source": [
        "!pip install sunpy[all]"
      ],
      "metadata": {
        "id": "hZG5A1wII6tB"
      },
      "execution_count": null,
      "outputs": []
    },
    {
      "cell_type": "code",
      "execution_count": null,
      "metadata": {
        "id": "EqEWIMzeIt4s"
      },
      "outputs": [],
      "source": [
        "import matplotlib.pyplot as plt\n",
        "\n",
        "from sunpy.net import Fido\n",
        "from sunpy.net import attrs as a\n",
        "from sunpy.time import parse_time\n",
        "from sunpy.timeseries import TimeSeries"
      ]
    },
    {
      "cell_type": "markdown",
      "metadata": {
        "id": "oGJZydrYIt4t"
      },
      "source": [
        "Let's grab GOES XRS data for a particular time of interest and the HEK flare\n",
        "data for this time from the NOAA Space Weather Prediction Center (SWPC).\n",
        "Here we are searching for data from the GOES-15 satellite and for the 1-min average time-sampled data.\n",
        "\n"
      ]
    },
    {
      "cell_type": "code",
      "execution_count": null,
      "metadata": {
        "id": "YyTo2_fjIt4t"
      },
      "outputs": [],
      "source": [
        "tr = a.Time('2008-03-13 11:00', '2008-03-13 22:00')\n",
        "results = Fido.search(tr, a.Instrument.xrs & a.goes.SatelliteNumber(16) & a.Resolution(\"avg1m\") | a.hek.FL & (a.hek.FRM.Name == 'SWPC'))"
      ]
    },
    {
      "cell_type": "markdown",
      "metadata": {
        "id": "WXpKEczpIt4t"
      },
      "source": [
        "Then download the XRS data and load it into a TimeSeries.\n",
        "\n"
      ]
    },
    {
      "cell_type": "code",
      "execution_count": null,
      "metadata": {
        "id": "daOm_as4It4t"
      },
      "outputs": [],
      "source": [
        "files = Fido.fetch(results)\n",
        "goes = TimeSeries(files)"
      ]
    },
    {
      "cell_type": "markdown",
      "metadata": {
        "id": "QqDk_mdpIt4u"
      },
      "source": [
        "Next let's retrieve `~sunpy.net.hek.HEKTable` from the Fido result\n",
        "and then load the first row from HEK results into ``flares_hek``.\n",
        "\n"
      ]
    },
    {
      "cell_type": "code",
      "execution_count": null,
      "metadata": {
        "id": "vd4HgFzYIt4u"
      },
      "outputs": [],
      "source": [
        "hek_results = results['hek']\n",
        "flares_hek = hek_results[0]"
      ]
    },
    {
      "cell_type": "code",
      "source": [
        "len(hek_results), len(goes)"
      ],
      "metadata": {
        "id": "AYMeIaJfLxpu"
      },
      "execution_count": null,
      "outputs": []
    },
    {
      "cell_type": "markdown",
      "metadata": {
        "id": "4vl_j4VNIt4u"
      },
      "source": [
        "Lets plot everything together.\n",
        "\n"
      ]
    },
    {
      "cell_type": "code",
      "execution_count": null,
      "metadata": {
        "id": "l9YgdJyzIt4u"
      },
      "outputs": [],
      "source": [
        "fig, ax = plt.subplots()\n",
        "goes[0].plot(axes=ax)\n",
        "ax.axvline(parse_time(flares_hek['event_peaktime']).datetime)\n",
        "ax.axvspan(\n",
        "    parse_time(flares_hek['event_starttime']).datetime,\n",
        "    parse_time(flares_hek['event_endtime']).datetime,\n",
        "    alpha=0.2, label=flares_hek['fl_goescls']\n",
        ")\n",
        "ax.legend(loc=2)\n",
        "ax.set_yscale('log')\n",
        "ax.set_xlim(tr.start.to_datetime(), tr.end.to_datetime())\n",
        "\n",
        "plt.show()"
      ]
    },
    {
      "cell_type": "code",
      "source": [
        "import numpy as np\n",
        "\n",
        "np.array([10**-exp for exp in range(3, 11)])"
      ],
      "metadata": {
        "id": "sTRnOGajYjc3"
      },
      "execution_count": null,
      "outputs": []
    },
    {
      "cell_type": "code",
      "execution_count": null,
      "metadata": {
        "id": "EGFZM35HMQBR"
      },
      "outputs": [],
      "source": [
        "from datetime import timedelta\n",
        "\n",
        "flare_type = 'X'\n",
        "fig, ax = plt.subplots(figsize=(15, 5))\n",
        "\n",
        "ax.plot(goes[0].to_dataframe()['xrsa'], lw=1, color='r',label='xrsa',alpha=0.8)\n",
        "ax.plot(goes[0].to_dataframe()['xrsb'], lw=1, color='b',label='xrsb',alpha=0.8)\n",
        "\n",
        "for i in range(1,len(goes)):\n",
        "  # goes[i].plot(axes=ax)\n",
        "  ax.plot(goes[i].to_dataframe()['xrsa'], lw=1, color='r',alpha=0.8)\n",
        "  ax.plot(goes[i].to_dataframe()['xrsb'], lw=1, color='b',alpha=0.8)\n",
        "\n",
        "nr_flares = 1\n",
        "for i in range(len(hek_results)):\n",
        "  flares_hek = hek_results[i]\n",
        "  if str(flares_hek['fl_goescls'])[0] == str(flare_type):\n",
        "    ax.axvline(parse_time(flares_hek['event_peaktime']).datetime,linestyle=':',color='k')\n",
        "    ax.axvspan(\n",
        "        parse_time(flares_hek['event_starttime']).datetime,\n",
        "        parse_time(flares_hek['event_endtime']).datetime,\n",
        "        alpha=0.2,) # label=flares_hek['fl_goescls'])\n",
        "    ax.text(parse_time(flares_hek['event_peaktime']).datetime + timedelta(hours=2),15**-(3+(nr_flares%3)/6),str(flares_hek['fl_goescls']),fontsize=8)\n",
        "    nr_flares = nr_flares+1\n",
        "\n",
        "for exp in range(3, 10):\n",
        "  ax.axhline(10**-exp, lw=0.5, color='grey', linestyle='dashed')\n",
        "\n",
        "ax.legend(loc=2)\n",
        "ax.set_yscale('log')\n",
        "ax.set_xlim(tr.start.to_datetime(), tr.end.to_datetime())\n",
        "\n",
        "ax2 = ax.twinx()\n",
        "ax2.set_yscale('log')\n",
        "ax2.set_yticks(np.array([10**-(exp+0.5) for exp in range(3,8)]))\n",
        "ax2.set_yticklabels(['X','M','C','B','A'],fontweight='bold')\n",
        "ax2.set_ylim(ax.get_ylim())\n",
        "\n",
        "ax.set_title(f\"GOES-16 XRS - Flares {flare_type}\\n {tr.start.to_datetime().strftime('%Y-%m-%d %Hh%Mm%Ss')} - {tr.end.to_datetime().strftime('%Y-%m-%d %Hh%Mm%Ss')}\")\n",
        "\n",
        "plt.show()"
      ]
    }
  ]
}