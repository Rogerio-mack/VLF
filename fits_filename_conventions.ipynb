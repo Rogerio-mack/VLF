{
  "nbformat": 4,
  "nbformat_minor": 0,
  "metadata": {
    "colab": {
      "provenance": [],
      "authorship_tag": "ABX9TyMHYhX13JmmTl6FfZWXVF/Z",
      "include_colab_link": true
    },
    "kernelspec": {
      "name": "python3",
      "display_name": "Python 3"
    },
    "language_info": {
      "name": "python"
    }
  },
  "cells": [
    {
      "cell_type": "markdown",
      "metadata": {
        "id": "view-in-github",
        "colab_type": "text"
      },
      "source": [
        "<a href=\"https://colab.research.google.com/github/Rogerio-mack/VLF/blob/main/fits_filename_conventions.ipynb\" target=\"_parent\"><img src=\"https://colab.research.google.com/assets/colab-badge.svg\" alt=\"Open In Colab\"/></a>"
      ]
    },
    {
      "cell_type": "markdown",
      "source": [
        "# Generate `name_conventions.json` and `name_conventions` `dict`"
      ],
      "metadata": {
        "id": "_GNRkuF9IYDL"
      }
    },
    {
      "cell_type": "code",
      "source": [
        "import json"
      ],
      "metadata": {
        "id": "KCGAd9W6zNmD"
      },
      "execution_count": 2,
      "outputs": []
    },
    {
      "cell_type": "code",
      "source": [
        "# Braoadband Files\n",
        "#-------------------------------------------------------------------------------\n",
        "# Filename: XXX-YYYYMMDD.fits\n",
        "\n",
        "# XXX – Station ID\n",
        "# YY  – Year\n",
        "# MM  — Month\n",
        "# DD  — Day\n",
        "\n",
        "# XXX-YYYYMMDD.fits\n",
        "# 01234567890123456 \n",
        "\n",
        "name_conventions = {\n",
        "    \n",
        "'narrowband' : {},    \n",
        "\n",
        "'broadband' : { \n",
        "  'Station_ID':       [0,2],\n",
        "  '-':                [3,3],\n",
        "  'Year':             [4,7],\n",
        "  'Month':            [8,9],\n",
        "  'Day':              [10,11],\n",
        "  '.fits':            [12,16]\n",
        "  }  \n",
        "\n",
        "}\n",
        "\n",
        "f = open(\"name_conventions_fits.json\", \"w\")\n",
        "f.write(json.dumps(name_conventions))\n",
        "f.close()\n",
        "\n",
        "with open(\"name_conventions_fits.json\") as json_file:\n",
        "  name_conventions_fits = json.load(json_file)\n",
        "\n",
        "print(name_conventions_fits)\n",
        "print(name_conventions_fits['broadband'])"
      ],
      "metadata": {
        "colab": {
          "base_uri": "https://localhost:8080/"
        },
        "id": "A_Nc-SarMTJc",
        "outputId": "44c11606-22d4-4ffd-8526-3f3aa64e6203"
      },
      "execution_count": 3,
      "outputs": [
        {
          "output_type": "stream",
          "name": "stdout",
          "text": [
            "{'narrowband': {}, 'broadband': {'Station_ID': [0, 2], '-': [3, 3], 'Year': [4, 7], 'Month': [8, 9], 'Day': [10, 11], '.fits': [12, 16]}}\n",
            "{'Station_ID': [0, 2], '-': [3, 3], 'Year': [4, 7], 'Month': [8, 9], 'Day': [10, 11], '.fits': [12, 16]}\n"
          ]
        }
      ]
    },
    {
      "cell_type": "markdown",
      "source": [
        "# `get_from_name(fname, field, type_band='narrowband',...)`"
      ],
      "metadata": {
        "id": "0tstmpqYJDPz"
      }
    },
    {
      "cell_type": "code",
      "source": [
        "def get_from_name(fname, field, type_band='narrowdband', name_conventions=name_conventions_fits):\n",
        "  \n",
        "  return fname[ int(name_conventions[type_band][field][0]) : int(name_conventions[type_band][field][1]) + 1 ]\n",
        "\n",
        "with open(\"name_conventions_fits.json\") as json_file:\n",
        "  name_conventions = json.load(json_file)\n",
        "      \n",
        "fname = 'PIU-20080104.fits'\n",
        "print(get_from_name(fname,'Station_ID'))\n",
        "\n",
        "for key in name_conventions['broadband'].keys():\n",
        "  print(key,' : ', get_from_name(fname,key))"
      ],
      "metadata": {
        "colab": {
          "base_uri": "https://localhost:8080/"
        },
        "id": "fUmEdvkLgNcg",
        "outputId": "569185bc-4853-4d9f-c1c2-bd2771ab136d"
      },
      "execution_count": 6,
      "outputs": [
        {
          "output_type": "stream",
          "name": "stdout",
          "text": [
            "PIU\n",
            "Station_ID  :  PIU\n",
            "-  :  -\n",
            "Year  :  2008\n",
            "Month  :  01\n",
            "Day  :  04\n",
            ".fits  :  .fits\n"
          ]
        }
      ]
    }
  ]
}